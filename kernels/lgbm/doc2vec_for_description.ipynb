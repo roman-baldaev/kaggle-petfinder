{
 "cells": [
  {
   "cell_type": "code",
   "execution_count": 75,
   "metadata": {},
   "outputs": [],
   "source": [
    "import gensim\n",
    "import numpy as np\n",
    "import pandas as pd\n",
    "\n",
    "import os\n",
    "import json\n",
    "from tqdm import tqdm\n",
    "\n",
    "import lightgbm as lgb\n",
    "import scipy as sp\n",
    "\n",
    "from functools import partial\n",
    "from sklearn.model_selection import StratifiedKFold\n",
    "from sklearn.preprocessing import OneHotEncoder"
   ]
  },
  {
   "cell_type": "code",
   "execution_count": 8,
   "metadata": {},
   "outputs": [],
   "source": [
    "input_path = \"../../input\""
   ]
  },
  {
   "cell_type": "code",
   "execution_count": 9,
   "metadata": {},
   "outputs": [],
   "source": [
    "train_df = pd.read_csv(os.path.join(input_path, 'train/train.csv'))"
   ]
  },
  {
   "cell_type": "code",
   "execution_count": 11,
   "metadata": {},
   "outputs": [],
   "source": [
    "test_df = pd.read_csv(os.path.join(input_path, 'test/test.csv'))"
   ]
  },
  {
   "cell_type": "code",
   "execution_count": 12,
   "metadata": {},
   "outputs": [],
   "source": [
    "train_texts = train_df['Description']"
   ]
  },
  {
   "cell_type": "code",
   "execution_count": 13,
   "metadata": {},
   "outputs": [],
   "source": [
    "test_texts = test_df['Description']"
   ]
  },
  {
   "cell_type": "code",
   "execution_count": 19,
   "metadata": {},
   "outputs": [],
   "source": [
    "all_texts = pd.concat([train_texts, test_texts])"
   ]
  },
  {
   "cell_type": "code",
   "execution_count": 24,
   "metadata": {},
   "outputs": [
    {
     "data": {
      "text/plain": [
       "14"
      ]
     },
     "execution_count": 24,
     "metadata": {},
     "output_type": "execute_result"
    }
   ],
   "source": [
    "all_texts.isna().sum()"
   ]
  },
  {
   "cell_type": "code",
   "execution_count": 27,
   "metadata": {},
   "outputs": [],
   "source": [
    "all_texts.fillna('none', inplace=True)"
   ]
  },
  {
   "cell_type": "code",
   "execution_count": 28,
   "metadata": {},
   "outputs": [
    {
     "data": {
      "text/plain": [
       "(14,)"
      ]
     },
     "execution_count": 28,
     "metadata": {},
     "output_type": "execute_result"
    }
   ],
   "source": [
    "all_texts[all_texts == 'none'].shape"
   ]
  },
  {
   "cell_type": "code",
   "execution_count": 29,
   "metadata": {},
   "outputs": [],
   "source": [
    "def read_corpus(iterable):\n",
    "    for i, line in enumerate(iterable):\n",
    "        yield gensim.models.doc2vec.TaggedDocument(gensim.utils.simple_preprocess(line), [i])"
   ]
  },
  {
   "cell_type": "code",
   "execution_count": 30,
   "metadata": {},
   "outputs": [],
   "source": [
    "tagged_texts = list(read_corpus(all_texts))"
   ]
  },
  {
   "cell_type": "code",
   "execution_count": 31,
   "metadata": {},
   "outputs": [
    {
     "data": {
      "text/plain": [
       "TaggedDocument(words=['nibble', 'is', 'month', 'old', 'ball', 'of', 'cuteness', 'he', 'is', 'energetic', 'and', 'playful', 'rescued', 'couple', 'of', 'cats', 'few', 'months', 'ago', 'but', 'could', 'not', 'get', 'them', 'neutered', 'in', 'time', 'as', 'the', 'clinic', 'was', 'fully', 'scheduled', 'the', 'result', 'was', 'this', 'little', 'kitty', 'do', 'not', 'have', 'enough', 'space', 'and', 'funds', 'to', 'care', 'for', 'more', 'cats', 'in', 'my', 'household', 'looking', 'for', 'responsible', 'people', 'to', 'take', 'over', 'nibble', 'care'], tags=[0])"
      ]
     },
     "execution_count": 31,
     "metadata": {},
     "output_type": "execute_result"
    }
   ],
   "source": [
    "tagged_texts[0]"
   ]
  },
  {
   "cell_type": "code",
   "execution_count": 32,
   "metadata": {},
   "outputs": [],
   "source": [
    "model = gensim.models.doc2vec.Doc2Vec(vector_size=50, min_count=2, epochs=40)\n"
   ]
  },
  {
   "cell_type": "code",
   "execution_count": 34,
   "metadata": {},
   "outputs": [],
   "source": [
    "model.build_vocab(tagged_texts)"
   ]
  },
  {
   "cell_type": "code",
   "execution_count": 36,
   "metadata": {},
   "outputs": [
    {
     "name": "stdout",
     "output_type": "stream",
     "text": [
      "CPU times: user 2 µs, sys: 0 ns, total: 2 µs\n",
      "Wall time: 4.53 µs\n"
     ]
    }
   ],
   "source": [
    "%time\n",
    "model.train(tagged_texts, total_examples=model.corpus_count, epochs=model.epochs)"
   ]
  },
  {
   "cell_type": "code",
   "execution_count": 37,
   "metadata": {},
   "outputs": [
    {
     "data": {
      "text/plain": [
       "array([-0.3874086 , -0.30622107,  0.4088354 , -0.68452317, -0.12602532,\n",
       "        0.5572939 , -0.21954854,  0.13485023,  0.21205647, -0.20292778,\n",
       "        0.5622685 , -0.20333122,  0.00886884,  0.10412114, -0.73048705,\n",
       "        0.13834874,  0.435352  , -0.39406323,  0.408562  ,  0.01949188,\n",
       "        0.566398  , -0.12355072, -0.2045855 , -0.39323974,  0.08722531,\n",
       "       -0.1482043 , -0.0808804 , -0.01379645,  0.01692487,  0.5998542 ,\n",
       "        0.23881292,  0.23251271,  0.06813861,  0.303746  ,  0.00425552,\n",
       "       -0.3191005 , -0.08286846,  0.05431944,  0.35676932,  0.27131963,\n",
       "        0.465069  ,  0.47620323,  0.16257784, -0.64490014, -0.1765105 ,\n",
       "       -0.15225255,  0.10303286, -0.39230847,  0.18953569, -0.19346207],\n",
       "      dtype=float32)"
      ]
     },
     "execution_count": 37,
     "metadata": {},
     "output_type": "execute_result"
    }
   ],
   "source": [
    "model.infer_vector(['only', 'you', 'can', 'prevent', 'forest', 'fires'])\n"
   ]
  },
  {
   "cell_type": "code",
   "execution_count": 45,
   "metadata": {},
   "outputs": [
    {
     "name": "stderr",
     "output_type": "stream",
     "text": [
      "/home/roman-baldaev/anaconda3/lib/python3.6/site-packages/pandas/core/generic.py:4405: SettingWithCopyWarning: \n",
      "A value is trying to be set on a copy of a slice from a DataFrame.\n",
      "Try using .loc[row_indexer,col_indexer] = value instead\n",
      "\n",
      "See the caveats in the documentation: http://pandas.pydata.org/pandas-docs/stable/indexing.html#indexing-view-versus-copy\n",
      "  self[name] = value\n"
     ]
    }
   ],
   "source": [
    "train=train_df[['PetID', 'Description', 'AdoptionSpeed']]\n",
    "train.Description=train.Description.fillna('none')"
   ]
  },
  {
   "cell_type": "code",
   "execution_count": 47,
   "metadata": {},
   "outputs": [
    {
     "name": "stdout",
     "output_type": "stream",
     "text": [
      "CPU times: user 2 µs, sys: 0 ns, total: 2 µs\n",
      "Wall time: 5.25 µs\n"
     ]
    }
   ],
   "source": [
    "%time\n",
    "doc2vec_df = pd.DataFrame([model.infer_vector(gensim.utils.simple_preprocess(line)) for line in train.Description], \n",
    "                              columns = [\"doc2vec_\"+str(int(i)) for i in range(50)])"
   ]
  },
  {
   "cell_type": "code",
   "execution_count": 55,
   "metadata": {},
   "outputs": [],
   "source": [
    "train_doc2vec = pd.concat([train, doc2vec_df], axis=1)"
   ]
  },
  {
   "cell_type": "code",
   "execution_count": 56,
   "metadata": {},
   "outputs": [
    {
     "data": {
      "text/html": [
       "<div>\n",
       "<style scoped>\n",
       "    .dataframe tbody tr th:only-of-type {\n",
       "        vertical-align: middle;\n",
       "    }\n",
       "\n",
       "    .dataframe tbody tr th {\n",
       "        vertical-align: top;\n",
       "    }\n",
       "\n",
       "    .dataframe thead th {\n",
       "        text-align: right;\n",
       "    }\n",
       "</style>\n",
       "<table border=\"1\" class=\"dataframe\">\n",
       "  <thead>\n",
       "    <tr style=\"text-align: right;\">\n",
       "      <th></th>\n",
       "      <th>PetID</th>\n",
       "      <th>Description</th>\n",
       "      <th>AdoptionSpeed</th>\n",
       "      <th>doc2vec_0</th>\n",
       "      <th>doc2vec_1</th>\n",
       "      <th>doc2vec_2</th>\n",
       "      <th>doc2vec_3</th>\n",
       "      <th>doc2vec_4</th>\n",
       "      <th>doc2vec_5</th>\n",
       "      <th>doc2vec_6</th>\n",
       "      <th>...</th>\n",
       "      <th>doc2vec_40</th>\n",
       "      <th>doc2vec_41</th>\n",
       "      <th>doc2vec_42</th>\n",
       "      <th>doc2vec_43</th>\n",
       "      <th>doc2vec_44</th>\n",
       "      <th>doc2vec_45</th>\n",
       "      <th>doc2vec_46</th>\n",
       "      <th>doc2vec_47</th>\n",
       "      <th>doc2vec_48</th>\n",
       "      <th>doc2vec_49</th>\n",
       "    </tr>\n",
       "  </thead>\n",
       "  <tbody>\n",
       "    <tr>\n",
       "      <th>0</th>\n",
       "      <td>86e1089a3</td>\n",
       "      <td>Nibble is a 3+ month old ball of cuteness. He ...</td>\n",
       "      <td>2</td>\n",
       "      <td>0.362608</td>\n",
       "      <td>-1.339198</td>\n",
       "      <td>-0.115744</td>\n",
       "      <td>-1.040151</td>\n",
       "      <td>-0.323848</td>\n",
       "      <td>0.788398</td>\n",
       "      <td>-0.018753</td>\n",
       "      <td>...</td>\n",
       "      <td>-0.061661</td>\n",
       "      <td>0.530647</td>\n",
       "      <td>-0.127925</td>\n",
       "      <td>-0.178366</td>\n",
       "      <td>-0.240260</td>\n",
       "      <td>-0.929224</td>\n",
       "      <td>-0.108950</td>\n",
       "      <td>-0.666617</td>\n",
       "      <td>-0.093832</td>\n",
       "      <td>0.635729</td>\n",
       "    </tr>\n",
       "    <tr>\n",
       "      <th>1</th>\n",
       "      <td>6296e909a</td>\n",
       "      <td>I just found it alone yesterday near my apartm...</td>\n",
       "      <td>0</td>\n",
       "      <td>-0.612035</td>\n",
       "      <td>0.272964</td>\n",
       "      <td>-0.400818</td>\n",
       "      <td>-1.278494</td>\n",
       "      <td>0.825669</td>\n",
       "      <td>0.344825</td>\n",
       "      <td>-0.347659</td>\n",
       "      <td>...</td>\n",
       "      <td>0.421728</td>\n",
       "      <td>0.821713</td>\n",
       "      <td>-0.222975</td>\n",
       "      <td>-0.511119</td>\n",
       "      <td>-0.314780</td>\n",
       "      <td>-0.830124</td>\n",
       "      <td>-0.346739</td>\n",
       "      <td>0.293434</td>\n",
       "      <td>0.334306</td>\n",
       "      <td>0.420510</td>\n",
       "    </tr>\n",
       "    <tr>\n",
       "      <th>2</th>\n",
       "      <td>3422e4906</td>\n",
       "      <td>Their pregnant mother was dumped by her irresp...</td>\n",
       "      <td>3</td>\n",
       "      <td>-0.012450</td>\n",
       "      <td>-0.774957</td>\n",
       "      <td>0.234869</td>\n",
       "      <td>0.204644</td>\n",
       "      <td>0.226701</td>\n",
       "      <td>0.400874</td>\n",
       "      <td>0.068928</td>\n",
       "      <td>...</td>\n",
       "      <td>0.240239</td>\n",
       "      <td>1.639499</td>\n",
       "      <td>0.622158</td>\n",
       "      <td>0.059481</td>\n",
       "      <td>-0.313485</td>\n",
       "      <td>-0.618437</td>\n",
       "      <td>-0.094084</td>\n",
       "      <td>-0.145679</td>\n",
       "      <td>-0.318513</td>\n",
       "      <td>0.135195</td>\n",
       "    </tr>\n",
       "    <tr>\n",
       "      <th>3</th>\n",
       "      <td>5842f1ff5</td>\n",
       "      <td>Good guard dog, very alert, active, obedience ...</td>\n",
       "      <td>2</td>\n",
       "      <td>0.371585</td>\n",
       "      <td>-0.701058</td>\n",
       "      <td>-0.018497</td>\n",
       "      <td>-0.288783</td>\n",
       "      <td>0.764215</td>\n",
       "      <td>-0.358407</td>\n",
       "      <td>-0.309732</td>\n",
       "      <td>...</td>\n",
       "      <td>-0.008311</td>\n",
       "      <td>0.679632</td>\n",
       "      <td>0.664630</td>\n",
       "      <td>0.089409</td>\n",
       "      <td>0.166947</td>\n",
       "      <td>0.188900</td>\n",
       "      <td>0.233804</td>\n",
       "      <td>-1.117431</td>\n",
       "      <td>0.766134</td>\n",
       "      <td>-0.392208</td>\n",
       "    </tr>\n",
       "    <tr>\n",
       "      <th>4</th>\n",
       "      <td>850a43f90</td>\n",
       "      <td>This handsome yet cute boy is up for adoption....</td>\n",
       "      <td>2</td>\n",
       "      <td>0.501965</td>\n",
       "      <td>0.346176</td>\n",
       "      <td>-1.496494</td>\n",
       "      <td>-1.006186</td>\n",
       "      <td>-0.092925</td>\n",
       "      <td>0.738305</td>\n",
       "      <td>-1.487715</td>\n",
       "      <td>...</td>\n",
       "      <td>0.159439</td>\n",
       "      <td>1.785400</td>\n",
       "      <td>-0.656976</td>\n",
       "      <td>0.746208</td>\n",
       "      <td>1.035529</td>\n",
       "      <td>0.079319</td>\n",
       "      <td>-0.352820</td>\n",
       "      <td>-0.401899</td>\n",
       "      <td>-0.690531</td>\n",
       "      <td>0.056028</td>\n",
       "    </tr>\n",
       "  </tbody>\n",
       "</table>\n",
       "<p>5 rows × 53 columns</p>\n",
       "</div>"
      ],
      "text/plain": [
       "       PetID                                        Description  \\\n",
       "0  86e1089a3  Nibble is a 3+ month old ball of cuteness. He ...   \n",
       "1  6296e909a  I just found it alone yesterday near my apartm...   \n",
       "2  3422e4906  Their pregnant mother was dumped by her irresp...   \n",
       "3  5842f1ff5  Good guard dog, very alert, active, obedience ...   \n",
       "4  850a43f90  This handsome yet cute boy is up for adoption....   \n",
       "\n",
       "   AdoptionSpeed  doc2vec_0  doc2vec_1  doc2vec_2  doc2vec_3  doc2vec_4  \\\n",
       "0              2   0.362608  -1.339198  -0.115744  -1.040151  -0.323848   \n",
       "1              0  -0.612035   0.272964  -0.400818  -1.278494   0.825669   \n",
       "2              3  -0.012450  -0.774957   0.234869   0.204644   0.226701   \n",
       "3              2   0.371585  -0.701058  -0.018497  -0.288783   0.764215   \n",
       "4              2   0.501965   0.346176  -1.496494  -1.006186  -0.092925   \n",
       "\n",
       "   doc2vec_5  doc2vec_6     ...      doc2vec_40  doc2vec_41  doc2vec_42  \\\n",
       "0   0.788398  -0.018753     ...       -0.061661    0.530647   -0.127925   \n",
       "1   0.344825  -0.347659     ...        0.421728    0.821713   -0.222975   \n",
       "2   0.400874   0.068928     ...        0.240239    1.639499    0.622158   \n",
       "3  -0.358407  -0.309732     ...       -0.008311    0.679632    0.664630   \n",
       "4   0.738305  -1.487715     ...        0.159439    1.785400   -0.656976   \n",
       "\n",
       "   doc2vec_43  doc2vec_44  doc2vec_45  doc2vec_46  doc2vec_47  doc2vec_48  \\\n",
       "0   -0.178366   -0.240260   -0.929224   -0.108950   -0.666617   -0.093832   \n",
       "1   -0.511119   -0.314780   -0.830124   -0.346739    0.293434    0.334306   \n",
       "2    0.059481   -0.313485   -0.618437   -0.094084   -0.145679   -0.318513   \n",
       "3    0.089409    0.166947    0.188900    0.233804   -1.117431    0.766134   \n",
       "4    0.746208    1.035529    0.079319   -0.352820   -0.401899   -0.690531   \n",
       "\n",
       "   doc2vec_49  \n",
       "0    0.635729  \n",
       "1    0.420510  \n",
       "2    0.135195  \n",
       "3   -0.392208  \n",
       "4    0.056028  \n",
       "\n",
       "[5 rows x 53 columns]"
      ]
     },
     "execution_count": 56,
     "metadata": {},
     "output_type": "execute_result"
    }
   ],
   "source": [
    "train_doc2vec.head()"
   ]
  },
  {
   "cell_type": "code",
   "execution_count": 72,
   "metadata": {},
   "outputs": [],
   "source": [
    "train_doc2vec = train_doc2vec.drop(['Description'], axis=1)"
   ]
  },
  {
   "cell_type": "code",
   "execution_count": 86,
   "metadata": {},
   "outputs": [],
   "source": [
    "# The following 3 functions have been taken from Ben Hamner's github repository\n",
    "# https://github.com/benhamner/Metrics\n",
    "def confusion_matrix(rater_a, rater_b, min_rating=None, max_rating=None):\n",
    "    \"\"\"\n",
    "    Returns the confusion matrix between rater's ratings\n",
    "    \"\"\"\n",
    "    assert(len(rater_a) == len(rater_b))\n",
    "    if min_rating is None:\n",
    "        min_rating = min(rater_a + rater_b)\n",
    "    if max_rating is None:\n",
    "        max_rating = max(rater_a + rater_b)\n",
    "    num_ratings = int(max_rating - min_rating + 1)\n",
    "    conf_mat = [[0 for i in range(num_ratings)]\n",
    "                for j in range(num_ratings)]\n",
    "    for a, b in zip(rater_a, rater_b):\n",
    "        conf_mat[a - min_rating][b - min_rating] += 1\n",
    "    return conf_mat\n",
    "\n",
    "\n",
    "def histogram(ratings, min_rating=None, max_rating=None):\n",
    "    \"\"\"\n",
    "    Returns the counts of each type of rating that a rater made\n",
    "    \"\"\"\n",
    "    if min_rating is None:\n",
    "        min_rating = min(ratings)\n",
    "    if max_rating is None:\n",
    "        max_rating = max(ratings)\n",
    "    num_ratings = int(max_rating - min_rating + 1)\n",
    "    hist_ratings = [0 for x in range(num_ratings)]\n",
    "    for r in ratings:\n",
    "        hist_ratings[r - min_rating] += 1\n",
    "    return hist_ratings\n",
    "\n",
    "\n",
    "def quadratic_weighted_kappa(y, y_pred):\n",
    "    \"\"\"\n",
    "    Calculates the quadratic weighted kappa\n",
    "    axquadratic_weighted_kappa calculates the quadratic weighted kappa\n",
    "    value, which is a measure of inter-rater agreement between two raters\n",
    "    that provide discrete numeric ratings.  Potential values range from -1\n",
    "    (representing complete disagreement) to 1 (representing complete\n",
    "    agreement).  A kappa value of 0 is expected if all agreement is due to\n",
    "    chance.\n",
    "    quadratic_weighted_kappa(rater_a, rater_b), where rater_a and rater_b\n",
    "    each correspond to a list of integer ratings.  These lists must have the\n",
    "    same length.\n",
    "    The ratings should be integers, and it is assumed that they contain\n",
    "    the complete range of possible ratings.\n",
    "    quadratic_weighted_kappa(X, min_rating, max_rating), where min_rating\n",
    "    is the minimum possible rating, and max_rating is the maximum possible\n",
    "    rating\n",
    "    \"\"\"\n",
    "    rater_a = y\n",
    "    rater_b = y_pred\n",
    "    min_rating=None\n",
    "    max_rating=None\n",
    "    rater_a = np.array(rater_a, dtype=int)\n",
    "    rater_b = np.array(rater_b, dtype=int)\n",
    "    assert(len(rater_a) == len(rater_b))\n",
    "    if min_rating is None:\n",
    "        min_rating = min(min(rater_a), min(rater_b))\n",
    "    if max_rating is None:\n",
    "        max_rating = max(max(rater_a), max(rater_b))\n",
    "    conf_mat = confusion_matrix(rater_a, rater_b,\n",
    "                                min_rating, max_rating)\n",
    "    num_ratings = len(conf_mat)\n",
    "    num_scored_items = float(len(rater_a))\n",
    "\n",
    "    hist_rater_a = histogram(rater_a, min_rating, max_rating)\n",
    "    hist_rater_b = histogram(rater_b, min_rating, max_rating)\n",
    "\n",
    "    numerator = 0.0\n",
    "    denominator = 0.0\n",
    "\n",
    "    for i in range(num_ratings):\n",
    "        for j in range(num_ratings):\n",
    "            expected_count = (hist_rater_a[i] * hist_rater_b[j]\n",
    "                              / num_scored_items)\n",
    "            d = pow(i - j, 2.0) / pow(num_ratings - 1, 2.0)\n",
    "            numerator += d * conf_mat[i][j] / num_scored_items\n",
    "            denominator += d * expected_count / num_scored_items\n",
    "\n",
    "    return (1.0 - numerator / denominator)"
   ]
  },
  {
   "cell_type": "code",
   "execution_count": 87,
   "metadata": {},
   "outputs": [],
   "source": [
    "class OptimizedRounder(object):\n",
    "    def __init__(self):\n",
    "        self.coef_ = 0\n",
    "\n",
    "    def _kappa_loss(self, coef, X, y):\n",
    "        X_p = np.copy(X)\n",
    "        for i, pred in enumerate(X_p):\n",
    "            if pred < coef[0]:\n",
    "                X_p[i] = 0\n",
    "            elif pred >= coef[0] and pred < coef[1]:\n",
    "                X_p[i] = 1\n",
    "            elif pred >= coef[1] and pred < coef[2]:\n",
    "                X_p[i] = 2\n",
    "            elif pred >= coef[2] and pred < coef[3]:\n",
    "                X_p[i] = 3\n",
    "            else:\n",
    "                X_p[i] = 4\n",
    "\n",
    "        ll = quadratic_weighted_kappa(y, X_p)\n",
    "        return -ll\n",
    "\n",
    "    def fit(self, X, y):\n",
    "        loss_partial = partial(self._kappa_loss, X=X, y=y)\n",
    "        initial_coef = [0.5, 1.5, 2.5, 3.5]\n",
    "        self.coef_ = sp.optimize.minimize(loss_partial, initial_coef, method='nelder-mead')\n",
    "\n",
    "    def predict(self, X, coef):\n",
    "        X_p = np.copy(X)\n",
    "        for i, pred in enumerate(X_p):\n",
    "            if pred < coef[0]:\n",
    "                X_p[i] = 0\n",
    "            elif pred >= coef[0] and pred < coef[1]:\n",
    "                X_p[i] = 1\n",
    "            elif pred >= coef[1] and pred < coef[2]:\n",
    "                X_p[i] = 2\n",
    "            elif pred >= coef[2] and pred < coef[3]:\n",
    "                X_p[i] = 3\n",
    "            else:\n",
    "                X_p[i] = 4\n",
    "        return X_p\n",
    "\n",
    "    def coefficients(self):\n",
    "        return self.coef_['x']"
   ]
  },
  {
   "cell_type": "code",
   "execution_count": 79,
   "metadata": {},
   "outputs": [],
   "source": [
    "RANDOM_STATE = 322"
   ]
  },
  {
   "cell_type": "code",
   "execution_count": 81,
   "metadata": {},
   "outputs": [],
   "source": [
    "def cross_val(X, y, n_splits):\n",
    "    skf = StratifiedKFold(n_splits=n_splits, shuffle=False, random_state=RANDOM_STATE)\n",
    "#     test_predictions = np.zeros((X_test.shape[0], 1))\n",
    "    train_predictions = np.zeros((X.shape[0], 1))\n",
    "\n",
    "    cv_results = []\n",
    "    scores = []\n",
    "    coefficients = np.zeros((n_splits, 4))\n",
    "    fold = 0\n",
    "    for tr_ind, val_ind in skf.split(X, y):\n",
    "        X_train = X.loc[tr_ind]\n",
    "        y_train = y.loc[tr_ind]\n",
    "        \n",
    "        X_valid = X.loc[val_ind]\n",
    "        y_valid = y.loc[val_ind]\n",
    "        \n",
    "        lgb_params = {\n",
    "            'boosting_type': 'gbdt',\n",
    "            'objective': 'regression',\n",
    "            'learning_rate': 0.005,\n",
    "            'subsample': .8,\n",
    "            'colsample_bytree': 0.8,\n",
    "            'min_split_gain': 0.006,\n",
    "            'min_child_samples': 150,\n",
    "            'min_child_weight': 0.1,\n",
    "            'max_depth': 20,\n",
    "            'n_estimators': 10000,\n",
    "            'num_leaves': 80,\n",
    "            'silent': -1,\n",
    "            'verbose': -1,\n",
    "            'random_state': RANDOM_STATE\n",
    "        }\n",
    "        \n",
    "        model = lgb.LGBMRegressor(**lgb_params)\n",
    "        model.fit(\n",
    "            X_train, y_train,\n",
    "            eval_set=[(X_valid, y_valid)],\n",
    "            eval_metric='rmse',\n",
    "            verbose=200,\n",
    "            early_stopping_rounds=100\n",
    "        )\n",
    "        \n",
    "        y_pred = model.predict(X_valid, num_iteration=model.best_iteration_)\n",
    "#         y_pred = list(map(lambda x: int(x[0]), y_pred))\n",
    "#         test_pred = model.predict(X_test, num_iteration=model.best_iteration_)\n",
    "#         test_predictions += test_pred.reshape(-1, 1)\n",
    "        \n",
    "        train_predictions[val_ind] = y_pred.reshape(-1, 1)\n",
    "\n",
    "        \n",
    "        optR = OptimizedRounder()\n",
    "        optR.fit(y_pred, y_valid.values)\n",
    "        coefficients[fold, :] = optR.coefficients()\n",
    "        \n",
    "        pred = optR.predict(y_pred, coefficients[fold, :])\n",
    "        \n",
    "        kappa_scr = quadratic_weighted_kappa(y_valid, pred)\n",
    "        \n",
    "        print(\"Fold = {}. QWK = {}. Coef = {}\".format(fold, kappa_scr, coefficients[fold,:]))\n",
    "        cv_result = {}\n",
    "        cv_result['Fold'] = fold\n",
    "        cv_result['Model'] = model\n",
    "        cv_result['QWK'] = kappa_scr\n",
    "        cv_result['Coef'] = coefficients[fold, :]\n",
    "        cv_results.append(cv_result)\n",
    "        scores.append(kappa_scr)\n",
    "        fold += 1\n",
    "    print('Average: {}'.format(sum(scores)/n_splits))\n",
    "#     test_predictions = test_predictions * 1./n_splits\n",
    "\n",
    "    return {\n",
    "            'train_predictions': train_predictions,\n",
    "            'predictions': test_predictions,\n",
    "            'coefficients': np.mean(coefficients, axis=0)\n",
    "        }"
   ]
  },
  {
   "cell_type": "code",
   "execution_count": 73,
   "metadata": {},
   "outputs": [],
   "source": [
    "y = train_doc2vec.AdoptionSpeed"
   ]
  },
  {
   "cell_type": "code",
   "execution_count": 90,
   "metadata": {},
   "outputs": [],
   "source": [
    "X = train_doc2vec.drop(['AdoptionSpeed', 'PetID'], axis=1)"
   ]
  },
  {
   "cell_type": "code",
   "execution_count": 91,
   "metadata": {},
   "outputs": [
    {
     "data": {
      "text/html": [
       "<div>\n",
       "<style scoped>\n",
       "    .dataframe tbody tr th:only-of-type {\n",
       "        vertical-align: middle;\n",
       "    }\n",
       "\n",
       "    .dataframe tbody tr th {\n",
       "        vertical-align: top;\n",
       "    }\n",
       "\n",
       "    .dataframe thead th {\n",
       "        text-align: right;\n",
       "    }\n",
       "</style>\n",
       "<table border=\"1\" class=\"dataframe\">\n",
       "  <thead>\n",
       "    <tr style=\"text-align: right;\">\n",
       "      <th></th>\n",
       "      <th>doc2vec_0</th>\n",
       "      <th>doc2vec_1</th>\n",
       "      <th>doc2vec_2</th>\n",
       "      <th>doc2vec_3</th>\n",
       "      <th>doc2vec_4</th>\n",
       "      <th>doc2vec_5</th>\n",
       "      <th>doc2vec_6</th>\n",
       "      <th>doc2vec_7</th>\n",
       "      <th>doc2vec_8</th>\n",
       "      <th>doc2vec_9</th>\n",
       "      <th>...</th>\n",
       "      <th>doc2vec_40</th>\n",
       "      <th>doc2vec_41</th>\n",
       "      <th>doc2vec_42</th>\n",
       "      <th>doc2vec_43</th>\n",
       "      <th>doc2vec_44</th>\n",
       "      <th>doc2vec_45</th>\n",
       "      <th>doc2vec_46</th>\n",
       "      <th>doc2vec_47</th>\n",
       "      <th>doc2vec_48</th>\n",
       "      <th>doc2vec_49</th>\n",
       "    </tr>\n",
       "  </thead>\n",
       "  <tbody>\n",
       "    <tr>\n",
       "      <th>0</th>\n",
       "      <td>0.362608</td>\n",
       "      <td>-1.339198</td>\n",
       "      <td>-0.115744</td>\n",
       "      <td>-1.040151</td>\n",
       "      <td>-0.323848</td>\n",
       "      <td>0.788398</td>\n",
       "      <td>-0.018753</td>\n",
       "      <td>-0.197545</td>\n",
       "      <td>0.690700</td>\n",
       "      <td>-0.118282</td>\n",
       "      <td>...</td>\n",
       "      <td>-0.061661</td>\n",
       "      <td>0.530647</td>\n",
       "      <td>-0.127925</td>\n",
       "      <td>-0.178366</td>\n",
       "      <td>-0.240260</td>\n",
       "      <td>-0.929224</td>\n",
       "      <td>-0.108950</td>\n",
       "      <td>-0.666617</td>\n",
       "      <td>-0.093832</td>\n",
       "      <td>0.635729</td>\n",
       "    </tr>\n",
       "    <tr>\n",
       "      <th>1</th>\n",
       "      <td>-0.612035</td>\n",
       "      <td>0.272964</td>\n",
       "      <td>-0.400818</td>\n",
       "      <td>-1.278494</td>\n",
       "      <td>0.825669</td>\n",
       "      <td>0.344825</td>\n",
       "      <td>-0.347659</td>\n",
       "      <td>-0.802429</td>\n",
       "      <td>-1.072299</td>\n",
       "      <td>0.287547</td>\n",
       "      <td>...</td>\n",
       "      <td>0.421728</td>\n",
       "      <td>0.821713</td>\n",
       "      <td>-0.222975</td>\n",
       "      <td>-0.511119</td>\n",
       "      <td>-0.314780</td>\n",
       "      <td>-0.830124</td>\n",
       "      <td>-0.346739</td>\n",
       "      <td>0.293434</td>\n",
       "      <td>0.334306</td>\n",
       "      <td>0.420510</td>\n",
       "    </tr>\n",
       "    <tr>\n",
       "      <th>2</th>\n",
       "      <td>-0.012450</td>\n",
       "      <td>-0.774957</td>\n",
       "      <td>0.234869</td>\n",
       "      <td>0.204644</td>\n",
       "      <td>0.226701</td>\n",
       "      <td>0.400874</td>\n",
       "      <td>0.068928</td>\n",
       "      <td>1.078775</td>\n",
       "      <td>-1.386476</td>\n",
       "      <td>-0.039092</td>\n",
       "      <td>...</td>\n",
       "      <td>0.240239</td>\n",
       "      <td>1.639499</td>\n",
       "      <td>0.622158</td>\n",
       "      <td>0.059481</td>\n",
       "      <td>-0.313485</td>\n",
       "      <td>-0.618437</td>\n",
       "      <td>-0.094084</td>\n",
       "      <td>-0.145679</td>\n",
       "      <td>-0.318513</td>\n",
       "      <td>0.135195</td>\n",
       "    </tr>\n",
       "    <tr>\n",
       "      <th>3</th>\n",
       "      <td>0.371585</td>\n",
       "      <td>-0.701058</td>\n",
       "      <td>-0.018497</td>\n",
       "      <td>-0.288783</td>\n",
       "      <td>0.764215</td>\n",
       "      <td>-0.358407</td>\n",
       "      <td>-0.309732</td>\n",
       "      <td>-0.036906</td>\n",
       "      <td>-0.283879</td>\n",
       "      <td>0.687535</td>\n",
       "      <td>...</td>\n",
       "      <td>-0.008311</td>\n",
       "      <td>0.679632</td>\n",
       "      <td>0.664630</td>\n",
       "      <td>0.089409</td>\n",
       "      <td>0.166947</td>\n",
       "      <td>0.188900</td>\n",
       "      <td>0.233804</td>\n",
       "      <td>-1.117431</td>\n",
       "      <td>0.766134</td>\n",
       "      <td>-0.392208</td>\n",
       "    </tr>\n",
       "    <tr>\n",
       "      <th>4</th>\n",
       "      <td>0.501965</td>\n",
       "      <td>0.346176</td>\n",
       "      <td>-1.496494</td>\n",
       "      <td>-1.006186</td>\n",
       "      <td>-0.092925</td>\n",
       "      <td>0.738305</td>\n",
       "      <td>-1.487715</td>\n",
       "      <td>0.523871</td>\n",
       "      <td>-0.167349</td>\n",
       "      <td>1.066349</td>\n",
       "      <td>...</td>\n",
       "      <td>0.159439</td>\n",
       "      <td>1.785400</td>\n",
       "      <td>-0.656976</td>\n",
       "      <td>0.746208</td>\n",
       "      <td>1.035529</td>\n",
       "      <td>0.079319</td>\n",
       "      <td>-0.352820</td>\n",
       "      <td>-0.401899</td>\n",
       "      <td>-0.690531</td>\n",
       "      <td>0.056028</td>\n",
       "    </tr>\n",
       "  </tbody>\n",
       "</table>\n",
       "<p>5 rows × 50 columns</p>\n",
       "</div>"
      ],
      "text/plain": [
       "   doc2vec_0  doc2vec_1  doc2vec_2  doc2vec_3  doc2vec_4  doc2vec_5  \\\n",
       "0   0.362608  -1.339198  -0.115744  -1.040151  -0.323848   0.788398   \n",
       "1  -0.612035   0.272964  -0.400818  -1.278494   0.825669   0.344825   \n",
       "2  -0.012450  -0.774957   0.234869   0.204644   0.226701   0.400874   \n",
       "3   0.371585  -0.701058  -0.018497  -0.288783   0.764215  -0.358407   \n",
       "4   0.501965   0.346176  -1.496494  -1.006186  -0.092925   0.738305   \n",
       "\n",
       "   doc2vec_6  doc2vec_7  doc2vec_8  doc2vec_9     ...      doc2vec_40  \\\n",
       "0  -0.018753  -0.197545   0.690700  -0.118282     ...       -0.061661   \n",
       "1  -0.347659  -0.802429  -1.072299   0.287547     ...        0.421728   \n",
       "2   0.068928   1.078775  -1.386476  -0.039092     ...        0.240239   \n",
       "3  -0.309732  -0.036906  -0.283879   0.687535     ...       -0.008311   \n",
       "4  -1.487715   0.523871  -0.167349   1.066349     ...        0.159439   \n",
       "\n",
       "   doc2vec_41  doc2vec_42  doc2vec_43  doc2vec_44  doc2vec_45  doc2vec_46  \\\n",
       "0    0.530647   -0.127925   -0.178366   -0.240260   -0.929224   -0.108950   \n",
       "1    0.821713   -0.222975   -0.511119   -0.314780   -0.830124   -0.346739   \n",
       "2    1.639499    0.622158    0.059481   -0.313485   -0.618437   -0.094084   \n",
       "3    0.679632    0.664630    0.089409    0.166947    0.188900    0.233804   \n",
       "4    1.785400   -0.656976    0.746208    1.035529    0.079319   -0.352820   \n",
       "\n",
       "   doc2vec_47  doc2vec_48  doc2vec_49  \n",
       "0   -0.666617   -0.093832    0.635729  \n",
       "1    0.293434    0.334306    0.420510  \n",
       "2   -0.145679   -0.318513    0.135195  \n",
       "3   -1.117431    0.766134   -0.392208  \n",
       "4   -0.401899   -0.690531    0.056028  \n",
       "\n",
       "[5 rows x 50 columns]"
      ]
     },
     "execution_count": 91,
     "metadata": {},
     "output_type": "execute_result"
    }
   ],
   "source": [
    "X.head()"
   ]
  },
  {
   "cell_type": "code",
   "execution_count": 92,
   "metadata": {},
   "outputs": [
    {
     "name": "stdout",
     "output_type": "stream",
     "text": [
      "Training until validation scores don't improve for 100 rounds.\n",
      "[200]\tvalid_0's l2: 1.36135\tvalid_0's rmse: 1.16677\n",
      "[400]\tvalid_0's l2: 1.35696\tvalid_0's rmse: 1.16489\n",
      "[600]\tvalid_0's l2: 1.35606\tvalid_0's rmse: 1.1645\n",
      "[800]\tvalid_0's l2: 1.35551\tvalid_0's rmse: 1.16426\n",
      "Early stopping, best iteration is:\n",
      "[836]\tvalid_0's l2: 1.35527\tvalid_0's rmse: 1.16416\n",
      "Fold = 0. QWK = 0.08451325783201258. Coef = [0.5079581  1.47608797 2.61185901 3.44789229]\n",
      "Training until validation scores don't improve for 100 rounds.\n",
      "[200]\tvalid_0's l2: 1.36045\tvalid_0's rmse: 1.16638\n",
      "[400]\tvalid_0's l2: 1.34793\tvalid_0's rmse: 1.161\n",
      "[600]\tvalid_0's l2: 1.34277\tvalid_0's rmse: 1.15878\n",
      "[800]\tvalid_0's l2: 1.3411\tvalid_0's rmse: 1.15806\n",
      "Early stopping, best iteration is:\n",
      "[812]\tvalid_0's l2: 1.34104\tvalid_0's rmse: 1.15803\n",
      "Fold = 1. QWK = 0.09793454868105433. Coef = [0.51810275 1.47835325 2.44566464 3.55682648]\n",
      "Training until validation scores don't improve for 100 rounds.\n",
      "[200]\tvalid_0's l2: 1.35722\tvalid_0's rmse: 1.165\n",
      "[400]\tvalid_0's l2: 1.34553\tvalid_0's rmse: 1.15997\n",
      "[600]\tvalid_0's l2: 1.33919\tvalid_0's rmse: 1.15723\n",
      "[800]\tvalid_0's l2: 1.33602\tvalid_0's rmse: 1.15586\n",
      "[1000]\tvalid_0's l2: 1.33413\tvalid_0's rmse: 1.15505\n",
      "[1200]\tvalid_0's l2: 1.33396\tvalid_0's rmse: 1.15497\n",
      "Early stopping, best iteration is:\n",
      "[1141]\tvalid_0's l2: 1.33367\tvalid_0's rmse: 1.15485\n",
      "Fold = 2. QWK = 0.11246774758330491. Coef = [0.50129585 1.52712364 2.57663727 3.44893608]\n",
      "Average: 0.09830518469879061\n"
     ]
    },
    {
     "ename": "NameError",
     "evalue": "name 'test_predictions' is not defined",
     "output_type": "error",
     "traceback": [
      "\u001b[0;31m---------------------------------------------------------------------------\u001b[0m",
      "\u001b[0;31mNameError\u001b[0m                                 Traceback (most recent call last)",
      "\u001b[0;32m<ipython-input-92-87d4344c1240>\u001b[0m in \u001b[0;36m<module>\u001b[0;34m\u001b[0m\n\u001b[0;32m----> 1\u001b[0;31m \u001b[0mresults\u001b[0m \u001b[0;34m=\u001b[0m \u001b[0mcross_val\u001b[0m\u001b[0;34m(\u001b[0m\u001b[0mX\u001b[0m\u001b[0;34m,\u001b[0m \u001b[0my\u001b[0m\u001b[0;34m,\u001b[0m \u001b[0mn_splits\u001b[0m \u001b[0;34m=\u001b[0m \u001b[0;36m3\u001b[0m\u001b[0;34m)\u001b[0m\u001b[0;34m\u001b[0m\u001b[0m\n\u001b[0m",
      "\u001b[0;32m<ipython-input-81-462efa1eab97>\u001b[0m in \u001b[0;36mcross_val\u001b[0;34m(X, y, n_splits)\u001b[0m\n\u001b[1;32m     71\u001b[0m     return {\n\u001b[1;32m     72\u001b[0m             \u001b[0;34m'train_predictions'\u001b[0m\u001b[0;34m:\u001b[0m \u001b[0mtrain_predictions\u001b[0m\u001b[0;34m,\u001b[0m\u001b[0;34m\u001b[0m\u001b[0m\n\u001b[0;32m---> 73\u001b[0;31m             \u001b[0;34m'predictions'\u001b[0m\u001b[0;34m:\u001b[0m \u001b[0mtest_predictions\u001b[0m\u001b[0;34m,\u001b[0m\u001b[0;34m\u001b[0m\u001b[0m\n\u001b[0m\u001b[1;32m     74\u001b[0m             \u001b[0;34m'coefficients'\u001b[0m\u001b[0;34m:\u001b[0m \u001b[0mnp\u001b[0m\u001b[0;34m.\u001b[0m\u001b[0mmean\u001b[0m\u001b[0;34m(\u001b[0m\u001b[0mcoefficients\u001b[0m\u001b[0;34m,\u001b[0m \u001b[0maxis\u001b[0m\u001b[0;34m=\u001b[0m\u001b[0;36m0\u001b[0m\u001b[0;34m)\u001b[0m\u001b[0;34m\u001b[0m\u001b[0m\n\u001b[1;32m     75\u001b[0m         }\n",
      "\u001b[0;31mNameError\u001b[0m: name 'test_predictions' is not defined"
     ]
    }
   ],
   "source": [
    "results = cross_val(X, y, n_splits = 3)"
   ]
  },
  {
   "cell_type": "code",
   "execution_count": null,
   "metadata": {},
   "outputs": [],
   "source": []
  }
 ],
 "metadata": {
  "kernelspec": {
   "display_name": "Python 3",
   "language": "python",
   "name": "python3"
  },
  "language_info": {
   "codemirror_mode": {
    "name": "ipython",
    "version": 3
   },
   "file_extension": ".py",
   "mimetype": "text/x-python",
   "name": "python",
   "nbconvert_exporter": "python",
   "pygments_lexer": "ipython3",
   "version": "3.6.6"
  }
 },
 "nbformat": 4,
 "nbformat_minor": 2
}
