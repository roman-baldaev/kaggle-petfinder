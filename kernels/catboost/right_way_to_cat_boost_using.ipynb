{
 "cells": [
  {
   "cell_type": "code",
   "execution_count": 7,
   "metadata": {},
   "outputs": [],
   "source": [
    "import numpy as np"
   ]
  },
  {
   "cell_type": "code",
   "execution_count": 8,
   "metadata": {},
   "outputs": [],
   "source": [
    "import pandas as pd"
   ]
  },
  {
   "cell_type": "code",
   "execution_count": 9,
   "metadata": {},
   "outputs": [],
   "source": [
    "import seaborn as sns"
   ]
  },
  {
   "cell_type": "code",
   "execution_count": 10,
   "metadata": {},
   "outputs": [],
   "source": [
    "import os"
   ]
  },
  {
   "cell_type": "code",
   "execution_count": 11,
   "metadata": {},
   "outputs": [],
   "source": [
    "input_path = \"../../input\""
   ]
  },
  {
   "cell_type": "code",
   "execution_count": 12,
   "metadata": {},
   "outputs": [],
   "source": [
    "train_df = pd.read_csv(os.path.join(input_path, 'train/train.csv'))"
   ]
  },
  {
   "cell_type": "code",
   "execution_count": 13,
   "metadata": {},
   "outputs": [],
   "source": [
    "test_df = pd.read_csv(os.path.join(input_path, 'test/test.csv'))"
   ]
  },
  {
   "cell_type": "markdown",
   "metadata": {},
   "source": [
    "### Looking on label balance in dataset"
   ]
  },
  {
   "cell_type": "code",
   "execution_count": 14,
   "metadata": {},
   "outputs": [
    {
     "data": {
      "image/png": "[encoded data removed]",
      "text/plain": [
       "<Figure size 432x288 with 1 Axes>"
      ]
     },
     "metadata": {
      "needs_background": "light"
     },
     "output_type": "display_data"
    }
   ],
   "source": [
    "adoption_speed_hist = train_df.hist('AdoptionSpeed')"
   ]
  },
  {
   "cell_type": "markdown",
   "metadata": {},
   "source": [
    "### Generate features based on 'Name' ('No_name',  'Bad_name')"
   ]
  },
  {
   "cell_type": "code",
   "execution_count": 15,
   "metadata": {},
   "outputs": [],
   "source": [
    "train_df['Name'] = train_df['Name'].fillna('No Name')\n",
    "test_df['Name'] = test_df['Name'].fillna('No Name')"
   ]
  },
  {
   "cell_type": "code",
   "execution_count": 16,
   "metadata": {},
   "outputs": [],
   "source": [
    "train_df['No_name'] = 0\n",
    "train_df.loc[(train_df['Name'] == 'No Name') | \n",
    "             (train_df['Name'] == 'No Name Yet'), 'No_name'] = 1\n",
    "test_df['No_name'] = 0\n",
    "test_df.loc[(test_df['Name'] == 'No Name')| \n",
    "             (test_df['Name'] == 'No Name Yet'), 'No_name'] = 1"
   ]
  },
  {
   "cell_type": "code",
   "execution_count": 17,
   "metadata": {},
   "outputs": [],
   "source": [
    "train_df['Bad_name'] = 0\n",
    "train_df.loc[train_df['Name'].apply(lambda x: len(str(x))) < 3, 'Bad_name'] = 1"
   ]
  },
  {
   "cell_type": "code",
   "execution_count": 18,
   "metadata": {},
   "outputs": [],
   "source": [
    "test_df['Bad_name'] = 0\n",
    "test_df.loc[test_df['Name'].apply(lambda x: len(str(x))) < 3, 'Bad_name'] = 1"
   ]
  },
  {
   "cell_type": "markdown",
   "metadata": {},
   "source": [
    "### Generate simple (without words embeddings) features based on 'Description'"
   ]
  },
  {
   "cell_type": "code",
   "execution_count": 19,
   "metadata": {},
   "outputs": [],
   "source": [
    "def add_text_length(df, text_column='Description'):\n",
    "    df[text_column+'Length'] = df[text_column].fillna(\" \").apply(lambda x: len(x))\n",
    "    return df"
   ]
  },
  {
   "cell_type": "code",
   "execution_count": 20,
   "metadata": {},
   "outputs": [],
   "source": [
    "def add_number_of_words(df, text_column='Description'):\n",
    "    df['NumberOfWords'] = df[text_column].fillna(\" \").apply(lambda x: len(x.split()))\n",
    "    return df"
   ]
  },
  {
   "cell_type": "code",
   "execution_count": 21,
   "metadata": {},
   "outputs": [],
   "source": [
    "def add_average_word_length(df, text_length_col='DescriptionLength', number_of_words_col='NumberOfWords'):\n",
    "    \n",
    "    df['AverageWordLength'] = df[text_length_col] / df[number_of_words_col]\n",
    "    df['AverageWordLength'] = df['AverageWordLength'].replace([np.inf, -np.inf], 0)\n",
    "    return df"
   ]
  },
  {
   "cell_type": "code",
   "execution_count": 22,
   "metadata": {},
   "outputs": [],
   "source": [
    "def add_simple_text_features(df, text_column='Description'):\n",
    "    df = add_text_length(df, text_column)\n",
    "    df = add_number_of_words(df, text_column)\n",
    "    df = add_average_word_length(df, 'DescriptionLength', 'NumberOfWords')\n",
    "    return df"
   ]
  },
  {
   "cell_type": "code",
   "execution_count": null,
   "metadata": {},
   "outputs": [],
   "source": []
  },
  {
   "cell_type": "code",
   "execution_count": 23,
   "metadata": {},
   "outputs": [],
   "source": [
    "train_df = add_simple_text_features(train_df)"
   ]
  },
  {
   "cell_type": "code",
   "execution_count": 24,
   "metadata": {},
   "outputs": [],
   "source": [
    "test_df = add_simple_text_features(test_df)"
   ]
  },
  {
   "cell_type": "code",
   "execution_count": null,
   "metadata": {},
   "outputs": [],
   "source": []
  },
  {
   "cell_type": "markdown",
   "metadata": {},
   "source": [
    "### Drop not-using features"
   ]
  },
  {
   "cell_type": "code",
   "execution_count": 26,
   "metadata": {},
   "outputs": [],
   "source": [
    "# drop text features and hash id`s\n",
    "drop_list = ['PetID', \n",
    "             'RescuerID', \n",
    "             'Description']"
   ]
  },
  {
   "cell_type": "code",
   "execution_count": 27,
   "metadata": {},
   "outputs": [],
   "source": [
    "pet_id_test = test_df['PetID']"
   ]
  },
  {
   "cell_type": "code",
   "execution_count": 28,
   "metadata": {},
   "outputs": [],
   "source": [
    "y = train_df['AdoptionSpeed']"
   ]
  },
  {
   "cell_type": "code",
   "execution_count": 29,
   "metadata": {},
   "outputs": [],
   "source": [
    "X = train_df.drop(drop_list, axis=1)"
   ]
  },
  {
   "cell_type": "code",
   "execution_count": 30,
   "metadata": {},
   "outputs": [],
   "source": [
    "# X = X.drop('AdoptionSpeed', axis=1)"
   ]
  },
  {
   "cell_type": "code",
   "execution_count": 31,
   "metadata": {},
   "outputs": [],
   "source": [
    "X_test = test_df.drop(drop_list, axis=1)"
   ]
  },
  {
   "cell_type": "code",
   "execution_count": null,
   "metadata": {},
   "outputs": [],
   "source": []
  },
  {
   "cell_type": "code",
   "execution_count": null,
   "metadata": {},
   "outputs": [],
   "source": []
  },
  {
   "cell_type": "code",
   "execution_count": null,
   "metadata": {},
   "outputs": [],
   "source": []
  },
  {
   "cell_type": "code",
   "execution_count": null,
   "metadata": {},
   "outputs": [],
   "source": []
  },
  {
   "cell_type": "markdown",
   "metadata": {},
   "source": [
    "### Select cat features"
   ]
  },
  {
   "cell_type": "code",
   "execution_count": 32,
   "metadata": {},
   "outputs": [],
   "source": [
    "def get_column_indeces_from_names(df,name_list):\n",
    "    indeces = []\n",
    "    for name in name_list:\n",
    "        indeces.append(df.columns.get_loc(name))\n",
    "    return indeces"
   ]
  },
  {
   "cell_type": "code",
   "execution_count": 33,
   "metadata": {},
   "outputs": [],
   "source": [
    "cat_feature_names = [\n",
    "    'Type',\n",
    "    'Breed1',\n",
    "    'Breed2',\n",
    "    'Gender',\n",
    "    'Color1',\n",
    "    'Color2',\n",
    "    'Color3',\n",
    "    'Vaccinated',\n",
    "    'Dewormed',\n",
    "    'Sterilized',\n",
    "    'Health',\n",
    "    'State',\n",
    "    'No_name',\n",
    "    'Bad_name'\n",
    "]"
   ]
  },
  {
   "cell_type": "code",
   "execution_count": null,
   "metadata": {},
   "outputs": [],
   "source": []
  },
  {
   "cell_type": "code",
   "execution_count": null,
   "metadata": {},
   "outputs": [],
   "source": []
  },
  {
   "cell_type": "markdown",
   "metadata": {},
   "source": [
    "### Create cd and pool"
   ]
  },
  {
   "cell_type": "code",
   "execution_count": 34,
   "metadata": {},
   "outputs": [],
   "source": [
    "from catboost.utils import create_cd"
   ]
  },
  {
   "cell_type": "code",
   "execution_count": 35,
   "metadata": {},
   "outputs": [],
   "source": [
    "label_index = X.columns.get_loc('AdoptionSpeed')"
   ]
  },
  {
   "cell_type": "code",
   "execution_count": 36,
   "metadata": {},
   "outputs": [],
   "source": [
    "def make_feature_names_dict(df, label_name):\n",
    "    columns = list(df.columns)\n",
    "    columns.remove(label_name)\n",
    "    column_indices = get_column_indeces_from_names(df, columns)\n",
    "        \n",
    "    return dict(zip(column_indices, columns))"
   ]
  },
  {
   "cell_type": "code",
   "execution_count": 37,
   "metadata": {},
   "outputs": [],
   "source": [
    "X = X.drop(['Name', 'AdoptionSpeed'], axis=1)"
   ]
  },
  {
   "cell_type": "code",
   "execution_count": 38,
   "metadata": {},
   "outputs": [
    {
     "data": {
      "text/html": [
       "<div>\n",
       "<style scoped>\n",
       "    .dataframe tbody tr th:only-of-type {\n",
       "        vertical-align: middle;\n",
       "    }\n",
       "\n",
       "    .dataframe tbody tr th {\n",
       "        vertical-align: top;\n",
       "    }\n",
       "\n",
       "    .dataframe thead th {\n",
       "        text-align: right;\n",
       "    }\n",
       "</style>\n",
       "<table border=\"1\" class=\"dataframe\">\n",
       "  <thead>\n",
       "    <tr style=\"text-align: right;\">\n",
       "      <th></th>\n",
       "      <th>Type</th>\n",
       "      <th>Age</th>\n",
       "      <th>Breed1</th>\n",
       "      <th>Breed2</th>\n",
       "      <th>Gender</th>\n",
       "      <th>Color1</th>\n",
       "      <th>Color2</th>\n",
       "      <th>Color3</th>\n",
       "      <th>MaturitySize</th>\n",
       "      <th>FurLength</th>\n",
       "      <th>...</th>\n",
       "      <th>Quantity</th>\n",
       "      <th>Fee</th>\n",
       "      <th>State</th>\n",
       "      <th>VideoAmt</th>\n",
       "      <th>PhotoAmt</th>\n",
       "      <th>No_name</th>\n",
       "      <th>Bad_name</th>\n",
       "      <th>DescriptionLength</th>\n",
       "      <th>NumberOfWords</th>\n",
       "      <th>AverageWordLength</th>\n",
       "    </tr>\n",
       "  </thead>\n",
       "  <tbody>\n",
       "    <tr>\n",
       "      <th>0</th>\n",
       "      <td>2</td>\n",
       "      <td>3</td>\n",
       "      <td>299</td>\n",
       "      <td>0</td>\n",
       "      <td>1</td>\n",
       "      <td>1</td>\n",
       "      <td>7</td>\n",
       "      <td>0</td>\n",
       "      <td>1</td>\n",
       "      <td>1</td>\n",
       "      <td>...</td>\n",
       "      <td>1</td>\n",
       "      <td>100</td>\n",
       "      <td>41326</td>\n",
       "      <td>0</td>\n",
       "      <td>1.0</td>\n",
       "      <td>0</td>\n",
       "      <td>0</td>\n",
       "      <td>359</td>\n",
       "      <td>69</td>\n",
       "      <td>5.202899</td>\n",
       "    </tr>\n",
       "    <tr>\n",
       "      <th>1</th>\n",
       "      <td>2</td>\n",
       "      <td>1</td>\n",
       "      <td>265</td>\n",
       "      <td>0</td>\n",
       "      <td>1</td>\n",
       "      <td>1</td>\n",
       "      <td>2</td>\n",
       "      <td>0</td>\n",
       "      <td>2</td>\n",
       "      <td>2</td>\n",
       "      <td>...</td>\n",
       "      <td>1</td>\n",
       "      <td>0</td>\n",
       "      <td>41401</td>\n",
       "      <td>0</td>\n",
       "      <td>2.0</td>\n",
       "      <td>1</td>\n",
       "      <td>0</td>\n",
       "      <td>118</td>\n",
       "      <td>23</td>\n",
       "      <td>5.130435</td>\n",
       "    </tr>\n",
       "    <tr>\n",
       "      <th>2</th>\n",
       "      <td>1</td>\n",
       "      <td>1</td>\n",
       "      <td>307</td>\n",
       "      <td>0</td>\n",
       "      <td>1</td>\n",
       "      <td>2</td>\n",
       "      <td>7</td>\n",
       "      <td>0</td>\n",
       "      <td>2</td>\n",
       "      <td>2</td>\n",
       "      <td>...</td>\n",
       "      <td>1</td>\n",
       "      <td>0</td>\n",
       "      <td>41326</td>\n",
       "      <td>0</td>\n",
       "      <td>7.0</td>\n",
       "      <td>0</td>\n",
       "      <td>0</td>\n",
       "      <td>393</td>\n",
       "      <td>69</td>\n",
       "      <td>5.695652</td>\n",
       "    </tr>\n",
       "    <tr>\n",
       "      <th>3</th>\n",
       "      <td>1</td>\n",
       "      <td>4</td>\n",
       "      <td>307</td>\n",
       "      <td>0</td>\n",
       "      <td>2</td>\n",
       "      <td>1</td>\n",
       "      <td>2</td>\n",
       "      <td>0</td>\n",
       "      <td>2</td>\n",
       "      <td>1</td>\n",
       "      <td>...</td>\n",
       "      <td>1</td>\n",
       "      <td>150</td>\n",
       "      <td>41401</td>\n",
       "      <td>0</td>\n",
       "      <td>8.0</td>\n",
       "      <td>0</td>\n",
       "      <td>0</td>\n",
       "      <td>146</td>\n",
       "      <td>25</td>\n",
       "      <td>5.840000</td>\n",
       "    </tr>\n",
       "    <tr>\n",
       "      <th>4</th>\n",
       "      <td>1</td>\n",
       "      <td>1</td>\n",
       "      <td>307</td>\n",
       "      <td>0</td>\n",
       "      <td>1</td>\n",
       "      <td>1</td>\n",
       "      <td>0</td>\n",
       "      <td>0</td>\n",
       "      <td>2</td>\n",
       "      <td>1</td>\n",
       "      <td>...</td>\n",
       "      <td>1</td>\n",
       "      <td>0</td>\n",
       "      <td>41326</td>\n",
       "      <td>0</td>\n",
       "      <td>3.0</td>\n",
       "      <td>0</td>\n",
       "      <td>0</td>\n",
       "      <td>390</td>\n",
       "      <td>81</td>\n",
       "      <td>4.814815</td>\n",
       "    </tr>\n",
       "  </tbody>\n",
       "</table>\n",
       "<p>5 rows × 24 columns</p>\n",
       "</div>"
      ],
      "text/plain": [
       "   Type  Age  Breed1  Breed2  Gender  Color1  Color2  Color3  MaturitySize  \\\n",
       "0     2    3     299       0       1       1       7       0             1   \n",
       "1     2    1     265       0       1       1       2       0             2   \n",
       "2     1    1     307       0       1       2       7       0             2   \n",
       "3     1    4     307       0       2       1       2       0             2   \n",
       "4     1    1     307       0       1       1       0       0             2   \n",
       "\n",
       "   FurLength        ...          Quantity  Fee  State  VideoAmt  PhotoAmt  \\\n",
       "0          1        ...                 1  100  41326         0       1.0   \n",
       "1          2        ...                 1    0  41401         0       2.0   \n",
       "2          2        ...                 1    0  41326         0       7.0   \n",
       "3          1        ...                 1  150  41401         0       8.0   \n",
       "4          1        ...                 1    0  41326         0       3.0   \n",
       "\n",
       "   No_name  Bad_name  DescriptionLength  NumberOfWords  AverageWordLength  \n",
       "0        0         0                359             69           5.202899  \n",
       "1        1         0                118             23           5.130435  \n",
       "2        0         0                393             69           5.695652  \n",
       "3        0         0                146             25           5.840000  \n",
       "4        0         0                390             81           4.814815  \n",
       "\n",
       "[5 rows x 24 columns]"
      ]
     },
     "execution_count": 38,
     "metadata": {},
     "output_type": "execute_result"
    }
   ],
   "source": [
    "X.head()"
   ]
  },
  {
   "cell_type": "code",
   "execution_count": null,
   "metadata": {},
   "outputs": [],
   "source": []
  },
  {
   "cell_type": "code",
   "execution_count": 39,
   "metadata": {},
   "outputs": [],
   "source": [
    "cat_features = get_column_indeces_from_names(X, cat_feature_names)"
   ]
  },
  {
   "cell_type": "code",
   "execution_count": 40,
   "metadata": {},
   "outputs": [
    {
     "name": "stdout",
     "output_type": "stream",
     "text": [
      "[0, 2, 3, 4, 5, 6, 7, 10, 11, 12, 13, 16, 19, 20]\n"
     ]
    }
   ],
   "source": [
    "print(cat_features)"
   ]
  },
  {
   "cell_type": "code",
   "execution_count": 41,
   "metadata": {},
   "outputs": [],
   "source": [
    "from catboost import CatBoostClassifier, Pool"
   ]
  },
  {
   "cell_type": "code",
   "execution_count": 42,
   "metadata": {},
   "outputs": [],
   "source": [
    "from sklearn.model_selection import train_test_split"
   ]
  },
  {
   "cell_type": "code",
   "execution_count": 43,
   "metadata": {},
   "outputs": [
    {
     "name": "stderr",
     "output_type": "stream",
     "text": [
      "/home/roman-baldaev/anaconda3/lib/python3.6/site-packages/sklearn/model_selection/_split.py:2069: FutureWarning: From version 0.21, test_size will always complement train_size unless both are specified.\n",
      "  FutureWarning)\n"
     ]
    }
   ],
   "source": [
    "X_train, X_valid, y_train, y_valid = train_test_split(X,\n",
    "                                                        y, \n",
    "                                                        train_size=0.8,\n",
    "                                                        stratify=y\n",
    "    )"
   ]
  },
  {
   "cell_type": "code",
   "execution_count": 44,
   "metadata": {},
   "outputs": [],
   "source": [
    "pool_train = Pool(data=X_train,\n",
    "                 label=y_train,\n",
    "                 cat_features=cat_features)"
   ]
  },
  {
   "cell_type": "code",
   "execution_count": 45,
   "metadata": {},
   "outputs": [],
   "source": [
    "pool_valid = Pool(data=X_valid,\n",
    "                 label=y_valid,\n",
    "                 cat_features=cat_features)"
   ]
  },
  {
   "cell_type": "code",
   "execution_count": 46,
   "metadata": {},
   "outputs": [
    {
     "data": {
      "text/plain": [
       "((11994, 24), (2999, 24))"
      ]
     },
     "execution_count": 46,
     "metadata": {},
     "output_type": "execute_result"
    }
   ],
   "source": [
    "(pool_train.shape, pool_valid.shape)"
   ]
  },
  {
   "cell_type": "code",
   "execution_count": 47,
   "metadata": {},
   "outputs": [],
   "source": [
    "clf = CatBoostClassifier(iterations=200,\n",
    "                            loss_function = 'MultiClass',\n",
    "                            depth=4,\n",
    "                            leaf_estimation_iterations = 20,\n",
    "                            use_best_model=True,\n",
    "                            classes_count=5\n",
    "    )"
   ]
  },
  {
   "cell_type": "code",
   "execution_count": null,
   "metadata": {},
   "outputs": [
    {
     "name": "stdout",
     "output_type": "stream",
     "text": [
      "0:\tlearn: -1.5967399\ttest: -1.5968562\tbest: -1.5968562 (0)\ttotal: 277ms\tremaining: 55s\n",
      "1:\tlearn: -1.5850591\ttest: -1.5853066\tbest: -1.5853066 (1)\ttotal: 595ms\tremaining: 58.9s\n",
      "2:\tlearn: -1.5743181\ttest: -1.5747055\tbest: -1.5747055 (2)\ttotal: 947ms\tremaining: 1m 2s\n",
      "3:\tlearn: -1.5641160\ttest: -1.5644296\tbest: -1.5644296 (3)\ttotal: 1.46s\tremaining: 1m 11s\n",
      "4:\tlearn: -1.5545272\ttest: -1.5550345\tbest: -1.5550345 (4)\ttotal: 1.77s\tremaining: 1m 9s\n",
      "5:\tlearn: -1.5450461\ttest: -1.5456701\tbest: -1.5456701 (5)\ttotal: 2.13s\tremaining: 1m 8s\n",
      "6:\tlearn: -1.5373052\ttest: -1.5380406\tbest: -1.5380406 (6)\ttotal: 2.44s\tremaining: 1m 7s\n",
      "7:\tlearn: -1.5300968\ttest: -1.5307595\tbest: -1.5307595 (7)\ttotal: 2.71s\tremaining: 1m 5s\n",
      "8:\tlearn: -1.5234879\ttest: -1.5242569\tbest: -1.5242569 (8)\ttotal: 2.98s\tremaining: 1m 3s\n",
      "9:\tlearn: -1.5174090\ttest: -1.5182684\tbest: -1.5182684 (9)\ttotal: 3.27s\tremaining: 1m 2s\n",
      "10:\tlearn: -1.5106767\ttest: -1.5116514\tbest: -1.5116514 (10)\ttotal: 3.64s\tremaining: 1m 2s\n",
      "11:\tlearn: -1.5054735\ttest: -1.5065457\tbest: -1.5065457 (11)\ttotal: 3.96s\tremaining: 1m 1s\n",
      "12:\tlearn: -1.4998714\ttest: -1.5011374\tbest: -1.5011374 (12)\ttotal: 4.34s\tremaining: 1m 2s\n",
      "13:\tlearn: -1.4950981\ttest: -1.4965398\tbest: -1.4965398 (13)\ttotal: 4.7s\tremaining: 1m 2s\n",
      "14:\tlearn: -1.4909126\ttest: -1.4925048\tbest: -1.4925048 (14)\ttotal: 5.05s\tremaining: 1m 2s\n",
      "15:\tlearn: -1.4868428\ttest: -1.4883833\tbest: -1.4883833 (15)\ttotal: 5.41s\tremaining: 1m 2s\n",
      "16:\tlearn: -1.4826236\ttest: -1.4841656\tbest: -1.4841656 (16)\ttotal: 5.76s\tremaining: 1m 2s\n",
      "17:\tlearn: -1.4793202\ttest: -1.4809629\tbest: -1.4809629 (17)\ttotal: 6.04s\tremaining: 1m 1s\n",
      "18:\tlearn: -1.4753041\ttest: -1.4768102\tbest: -1.4768102 (18)\ttotal: 6.37s\tremaining: 1m\n",
      "19:\tlearn: -1.4713638\ttest: -1.4730009\tbest: -1.4730009 (19)\ttotal: 6.76s\tremaining: 1m\n",
      "20:\tlearn: -1.4666636\ttest: -1.4683354\tbest: -1.4683354 (20)\ttotal: 7.12s\tremaining: 1m\n",
      "21:\tlearn: -1.4621379\ttest: -1.4637288\tbest: -1.4637288 (21)\ttotal: 7.47s\tremaining: 1m\n",
      "22:\tlearn: -1.4590552\ttest: -1.4606927\tbest: -1.4606927 (22)\ttotal: 7.83s\tremaining: 1m\n",
      "23:\tlearn: -1.4557764\ttest: -1.4573362\tbest: -1.4573362 (23)\ttotal: 8.13s\tremaining: 59.7s\n",
      "24:\tlearn: -1.4522946\ttest: -1.4538446\tbest: -1.4538446 (24)\ttotal: 8.48s\tremaining: 59.3s\n",
      "25:\tlearn: -1.4490191\ttest: -1.4505613\tbest: -1.4505613 (25)\ttotal: 8.87s\tremaining: 59.3s\n",
      "26:\tlearn: -1.4462209\ttest: -1.4477488\tbest: -1.4477488 (26)\ttotal: 9.18s\tremaining: 58.8s\n",
      "27:\tlearn: -1.4438524\ttest: -1.4455080\tbest: -1.4455080 (27)\ttotal: 9.48s\tremaining: 58.2s\n",
      "28:\tlearn: -1.4414155\ttest: -1.4429069\tbest: -1.4429069 (28)\ttotal: 9.85s\tremaining: 58.1s\n",
      "29:\tlearn: -1.4384656\ttest: -1.4395383\tbest: -1.4395383 (29)\ttotal: 10.2s\tremaining: 57.9s\n",
      "30:\tlearn: -1.4363629\ttest: -1.4375471\tbest: -1.4375471 (30)\ttotal: 10.6s\tremaining: 58.1s\n",
      "31:\tlearn: -1.4341665\ttest: -1.4353482\tbest: -1.4353482 (31)\ttotal: 11.2s\tremaining: 58.6s\n",
      "32:\tlearn: -1.4324865\ttest: -1.4337679\tbest: -1.4337679 (32)\ttotal: 11.6s\tremaining: 58.7s\n",
      "33:\tlearn: -1.4300336\ttest: -1.4314228\tbest: -1.4314228 (33)\ttotal: 11.9s\tremaining: 58.3s\n",
      "34:\tlearn: -1.4277690\ttest: -1.4293319\tbest: -1.4293319 (34)\ttotal: 12.3s\tremaining: 58.1s\n",
      "35:\tlearn: -1.4256143\ttest: -1.4274172\tbest: -1.4274172 (35)\ttotal: 12.7s\tremaining: 57.7s\n",
      "36:\tlearn: -1.4242121\ttest: -1.4261339\tbest: -1.4261339 (36)\ttotal: 13s\tremaining: 57.2s\n",
      "37:\tlearn: -1.4227373\ttest: -1.4248286\tbest: -1.4248286 (37)\ttotal: 13.4s\tremaining: 57.1s\n",
      "38:\tlearn: -1.4209389\ttest: -1.4229992\tbest: -1.4229992 (38)\ttotal: 13.7s\tremaining: 56.7s\n",
      "39:\tlearn: -1.4196012\ttest: -1.4218508\tbest: -1.4218508 (39)\ttotal: 14.1s\tremaining: 56.4s\n",
      "40:\tlearn: -1.4183378\ttest: -1.4206469\tbest: -1.4206469 (40)\ttotal: 14.5s\tremaining: 56.3s\n",
      "41:\tlearn: -1.4167668\ttest: -1.4190253\tbest: -1.4190253 (41)\ttotal: 14.9s\tremaining: 56s\n",
      "42:\tlearn: -1.4148633\ttest: -1.4172796\tbest: -1.4172796 (42)\ttotal: 15.3s\tremaining: 55.8s\n",
      "43:\tlearn: -1.4133170\ttest: -1.4157681\tbest: -1.4157681 (43)\ttotal: 15.7s\tremaining: 55.5s\n",
      "44:\tlearn: -1.4121917\ttest: -1.4146807\tbest: -1.4146807 (44)\ttotal: 16s\tremaining: 55.1s\n",
      "45:\tlearn: -1.4111414\ttest: -1.4137764\tbest: -1.4137764 (45)\ttotal: 16.3s\tremaining: 54.7s\n",
      "46:\tlearn: -1.4102034\ttest: -1.4127581\tbest: -1.4127581 (46)\ttotal: 16.7s\tremaining: 54.3s\n",
      "47:\tlearn: -1.4094314\ttest: -1.4121141\tbest: -1.4121141 (47)\ttotal: 17s\tremaining: 53.9s\n",
      "48:\tlearn: -1.4083667\ttest: -1.4111164\tbest: -1.4111164 (48)\ttotal: 17.4s\tremaining: 53.5s\n",
      "49:\tlearn: -1.4070521\ttest: -1.4097587\tbest: -1.4097587 (49)\ttotal: 17.8s\tremaining: 53.3s\n",
      "50:\tlearn: -1.4058042\ttest: -1.4086067\tbest: -1.4086067 (50)\ttotal: 18.1s\tremaining: 53s\n",
      "51:\tlearn: -1.4046391\ttest: -1.4075506\tbest: -1.4075506 (51)\ttotal: 18.5s\tremaining: 52.6s\n",
      "52:\tlearn: -1.4039133\ttest: -1.4069544\tbest: -1.4069544 (52)\ttotal: 18.8s\tremaining: 52.2s\n",
      "53:\tlearn: -1.4028070\ttest: -1.4060811\tbest: -1.4060811 (53)\ttotal: 19.2s\tremaining: 51.8s\n",
      "54:\tlearn: -1.4018176\ttest: -1.4050771\tbest: -1.4050771 (54)\ttotal: 19.5s\tremaining: 51.4s\n",
      "55:\tlearn: -1.4008955\ttest: -1.4043129\tbest: -1.4043129 (55)\ttotal: 19.8s\tremaining: 51s\n",
      "56:\tlearn: -1.4000562\ttest: -1.4036273\tbest: -1.4036273 (56)\ttotal: 20.2s\tremaining: 50.7s\n",
      "57:\tlearn: -1.3995811\ttest: -1.4032186\tbest: -1.4032186 (57)\ttotal: 20.5s\tremaining: 50.2s\n",
      "58:\tlearn: -1.3991351\ttest: -1.4028375\tbest: -1.4028375 (58)\ttotal: 20.8s\tremaining: 49.7s\n",
      "59:\tlearn: -1.3985990\ttest: -1.4023304\tbest: -1.4023304 (59)\ttotal: 21.2s\tremaining: 49.4s\n",
      "60:\tlearn: -1.3975484\ttest: -1.4013154\tbest: -1.4013154 (60)\ttotal: 21.5s\tremaining: 49.1s\n",
      "61:\tlearn: -1.3963967\ttest: -1.4001565\tbest: -1.4001565 (61)\ttotal: 21.9s\tremaining: 48.7s\n",
      "62:\tlearn: -1.3956295\ttest: -1.3996444\tbest: -1.3996444 (62)\ttotal: 22.3s\tremaining: 48.5s\n",
      "63:\tlearn: -1.3943876\ttest: -1.3984953\tbest: -1.3984953 (63)\ttotal: 22.6s\tremaining: 48.1s\n",
      "64:\tlearn: -1.3934265\ttest: -1.3978136\tbest: -1.3978136 (64)\ttotal: 23s\tremaining: 47.7s\n",
      "65:\tlearn: -1.3926287\ttest: -1.3973085\tbest: -1.3973085 (65)\ttotal: 23.4s\tremaining: 47.4s\n",
      "66:\tlearn: -1.3918805\ttest: -1.3966485\tbest: -1.3966485 (66)\ttotal: 23.7s\tremaining: 47s\n",
      "67:\tlearn: -1.3914639\ttest: -1.3963165\tbest: -1.3963165 (67)\ttotal: 24s\tremaining: 46.7s\n",
      "68:\tlearn: -1.3905188\ttest: -1.3953119\tbest: -1.3953119 (68)\ttotal: 24.5s\tremaining: 46.4s\n",
      "69:\tlearn: -1.3898167\ttest: -1.3948841\tbest: -1.3948841 (69)\ttotal: 24.8s\tremaining: 46.1s\n",
      "70:\tlearn: -1.3892579\ttest: -1.3945299\tbest: -1.3945299 (70)\ttotal: 25.2s\tremaining: 45.7s\n",
      "71:\tlearn: -1.3883768\ttest: -1.3936925\tbest: -1.3936925 (71)\ttotal: 25.6s\tremaining: 45.5s\n",
      "72:\tlearn: -1.3880820\ttest: -1.3933685\tbest: -1.3933685 (72)\ttotal: 25.9s\tremaining: 45s\n",
      "73:\tlearn: -1.3877247\ttest: -1.3931569\tbest: -1.3931569 (73)\ttotal: 26.2s\tremaining: 44.6s\n",
      "74:\tlearn: -1.3868916\ttest: -1.3923324\tbest: -1.3923324 (74)\ttotal: 26.6s\tremaining: 44.3s\n",
      "75:\tlearn: -1.3863764\ttest: -1.3919838\tbest: -1.3919838 (75)\ttotal: 26.9s\tremaining: 44s\n",
      "76:\tlearn: -1.3858898\ttest: -1.3915569\tbest: -1.3915569 (76)\ttotal: 27.3s\tremaining: 43.6s\n",
      "77:\tlearn: -1.3855289\ttest: -1.3913473\tbest: -1.3913473 (77)\ttotal: 27.7s\tremaining: 43.3s\n",
      "78:\tlearn: -1.3852099\ttest: -1.3910928\tbest: -1.3910928 (78)\ttotal: 28s\tremaining: 42.9s\n",
      "79:\tlearn: -1.3846970\ttest: -1.3907287\tbest: -1.3907287 (79)\ttotal: 28.4s\tremaining: 42.6s\n",
      "80:\tlearn: -1.3841891\ttest: -1.3902492\tbest: -1.3902492 (80)\ttotal: 28.7s\tremaining: 42.2s\n",
      "81:\tlearn: -1.3836681\ttest: -1.3897960\tbest: -1.3897960 (81)\ttotal: 29.1s\tremaining: 41.8s\n",
      "82:\tlearn: -1.3833841\ttest: -1.3895549\tbest: -1.3895549 (82)\ttotal: 29.4s\tremaining: 41.4s\n",
      "83:\tlearn: -1.3829293\ttest: -1.3892294\tbest: -1.3892294 (83)\ttotal: 29.8s\tremaining: 41.1s\n",
      "84:\tlearn: -1.3825763\ttest: -1.3888330\tbest: -1.3888330 (84)\ttotal: 30.1s\tremaining: 40.7s\n",
      "85:\tlearn: -1.3822773\ttest: -1.3885148\tbest: -1.3885148 (85)\ttotal: 30.4s\tremaining: 40.3s\n",
      "86:\tlearn: -1.3821204\ttest: -1.3883255\tbest: -1.3883255 (86)\ttotal: 30.7s\tremaining: 39.9s\n",
      "87:\tlearn: -1.3811698\ttest: -1.3876873\tbest: -1.3876873 (87)\ttotal: 31s\tremaining: 39.5s\n",
      "88:\tlearn: -1.3807866\ttest: -1.3873896\tbest: -1.3873896 (88)\ttotal: 31.4s\tremaining: 39.2s\n",
      "89:\tlearn: -1.3805794\ttest: -1.3872337\tbest: -1.3872337 (89)\ttotal: 31.7s\tremaining: 38.7s\n",
      "90:\tlearn: -1.3803142\ttest: -1.3871198\tbest: -1.3871198 (90)\ttotal: 32s\tremaining: 38.4s\n"
     ]
    },
    {
     "name": "stdout",
     "output_type": "stream",
     "text": [
      "91:\tlearn: -1.3800499\ttest: -1.3869814\tbest: -1.3869814 (91)\ttotal: 32.4s\tremaining: 38s\n",
      "92:\tlearn: -1.3795163\ttest: -1.3865157\tbest: -1.3865157 (92)\ttotal: 32.7s\tremaining: 37.7s\n",
      "93:\tlearn: -1.3792573\ttest: -1.3863259\tbest: -1.3863259 (93)\ttotal: 33.1s\tremaining: 37.3s\n",
      "94:\tlearn: -1.3791515\ttest: -1.3862153\tbest: -1.3862153 (94)\ttotal: 33.4s\tremaining: 36.9s\n",
      "95:\tlearn: -1.3784556\ttest: -1.3856708\tbest: -1.3856708 (95)\ttotal: 33.8s\tremaining: 36.6s\n",
      "96:\tlearn: -1.3781040\ttest: -1.3853129\tbest: -1.3853129 (96)\ttotal: 34.2s\tremaining: 36.3s\n",
      "97:\tlearn: -1.3778282\ttest: -1.3850547\tbest: -1.3850547 (97)\ttotal: 34.5s\tremaining: 35.9s\n",
      "98:\tlearn: -1.3774680\ttest: -1.3847371\tbest: -1.3847371 (98)\ttotal: 34.9s\tremaining: 35.6s\n",
      "99:\tlearn: -1.3771588\ttest: -1.3844377\tbest: -1.3844377 (99)\ttotal: 35.2s\tremaining: 35.2s\n",
      "100:\tlearn: -1.3768447\ttest: -1.3840746\tbest: -1.3840746 (100)\ttotal: 35.6s\tremaining: 34.9s\n",
      "101:\tlearn: -1.3766107\ttest: -1.3839063\tbest: -1.3839063 (101)\ttotal: 35.9s\tremaining: 34.5s\n",
      "102:\tlearn: -1.3759924\ttest: -1.3834365\tbest: -1.3834365 (102)\ttotal: 36.3s\tremaining: 34.2s\n",
      "103:\tlearn: -1.3757126\ttest: -1.3832025\tbest: -1.3832025 (103)\ttotal: 36.7s\tremaining: 33.8s\n",
      "104:\tlearn: -1.3752906\ttest: -1.3827582\tbest: -1.3827582 (104)\ttotal: 37s\tremaining: 33.5s\n",
      "105:\tlearn: -1.3750605\ttest: -1.3825979\tbest: -1.3825979 (105)\ttotal: 37.3s\tremaining: 33.1s\n",
      "106:\tlearn: -1.3746042\ttest: -1.3822195\tbest: -1.3822195 (106)\ttotal: 37.7s\tremaining: 32.8s\n",
      "107:\tlearn: -1.3742746\ttest: -1.3818941\tbest: -1.3818941 (107)\ttotal: 38s\tremaining: 32.4s\n",
      "108:\tlearn: -1.3737995\ttest: -1.3816330\tbest: -1.3816330 (108)\ttotal: 38.3s\tremaining: 32s\n",
      "109:\tlearn: -1.3733918\ttest: -1.3813737\tbest: -1.3813737 (109)\ttotal: 38.7s\tremaining: 31.6s\n",
      "110:\tlearn: -1.3731153\ttest: -1.3811811\tbest: -1.3811811 (110)\ttotal: 39s\tremaining: 31.3s\n",
      "111:\tlearn: -1.3727505\ttest: -1.3808954\tbest: -1.3808954 (111)\ttotal: 39.4s\tremaining: 30.9s\n",
      "112:\tlearn: -1.3725434\ttest: -1.3807989\tbest: -1.3807989 (112)\ttotal: 39.7s\tremaining: 30.6s\n",
      "113:\tlearn: -1.3724149\ttest: -1.3806784\tbest: -1.3806784 (113)\ttotal: 40s\tremaining: 30.2s\n",
      "114:\tlearn: -1.3721848\ttest: -1.3805157\tbest: -1.3805157 (114)\ttotal: 40.4s\tremaining: 29.8s\n",
      "115:\tlearn: -1.3718028\ttest: -1.3802281\tbest: -1.3802281 (115)\ttotal: 40.7s\tremaining: 29.5s\n",
      "116:\tlearn: -1.3713690\ttest: -1.3798328\tbest: -1.3798328 (116)\ttotal: 41.1s\tremaining: 29.1s\n",
      "117:\tlearn: -1.3710866\ttest: -1.3795750\tbest: -1.3795750 (117)\ttotal: 41.4s\tremaining: 28.8s\n",
      "118:\tlearn: -1.3708442\ttest: -1.3793791\tbest: -1.3793791 (118)\ttotal: 41.8s\tremaining: 28.5s\n",
      "119:\tlearn: -1.3705350\ttest: -1.3791686\tbest: -1.3791686 (119)\ttotal: 42.1s\tremaining: 28.1s\n",
      "120:\tlearn: -1.3703912\ttest: -1.3790024\tbest: -1.3790024 (120)\ttotal: 42.4s\tremaining: 27.7s\n",
      "121:\tlearn: -1.3700646\ttest: -1.3785954\tbest: -1.3785954 (121)\ttotal: 42.8s\tremaining: 27.3s\n",
      "122:\tlearn: -1.3699453\ttest: -1.3784158\tbest: -1.3784158 (122)\ttotal: 43s\tremaining: 26.9s\n",
      "123:\tlearn: -1.3695814\ttest: -1.3782872\tbest: -1.3782872 (123)\ttotal: 43.4s\tremaining: 26.6s\n",
      "124:\tlearn: -1.3694102\ttest: -1.3782209\tbest: -1.3782209 (124)\ttotal: 43.8s\tremaining: 26.3s\n",
      "125:\tlearn: -1.3689229\ttest: -1.3778277\tbest: -1.3778277 (125)\ttotal: 44.1s\tremaining: 25.9s\n",
      "126:\tlearn: -1.3688103\ttest: -1.3777594\tbest: -1.3777594 (126)\ttotal: 44.5s\tremaining: 25.6s\n",
      "127:\tlearn: -1.3685436\ttest: -1.3775542\tbest: -1.3775542 (127)\ttotal: 44.9s\tremaining: 25.3s\n",
      "128:\tlearn: -1.3682990\ttest: -1.3774216\tbest: -1.3774216 (128)\ttotal: 45.3s\tremaining: 24.9s\n",
      "129:\tlearn: -1.3680235\ttest: -1.3772683\tbest: -1.3772683 (129)\ttotal: 45.6s\tremaining: 24.6s\n",
      "130:\tlearn: -1.3675969\ttest: -1.3769612\tbest: -1.3769612 (130)\ttotal: 46s\tremaining: 24.2s\n",
      "131:\tlearn: -1.3674375\ttest: -1.3769105\tbest: -1.3769105 (131)\ttotal: 46.4s\tremaining: 23.9s\n",
      "132:\tlearn: -1.3668888\ttest: -1.3763750\tbest: -1.3763750 (132)\ttotal: 46.7s\tremaining: 23.5s\n",
      "133:\tlearn: -1.3666174\ttest: -1.3762316\tbest: -1.3762316 (133)\ttotal: 47.1s\tremaining: 23.2s\n",
      "134:\tlearn: -1.3661557\ttest: -1.3758580\tbest: -1.3758580 (134)\ttotal: 47.5s\tremaining: 22.9s\n",
      "135:\tlearn: -1.3660485\ttest: -1.3757909\tbest: -1.3757909 (135)\ttotal: 47.8s\tremaining: 22.5s\n",
      "136:\tlearn: -1.3656273\ttest: -1.3753929\tbest: -1.3753929 (136)\ttotal: 48.2s\tremaining: 22.2s\n",
      "137:\tlearn: -1.3653926\ttest: -1.3752726\tbest: -1.3752726 (137)\ttotal: 48.5s\tremaining: 21.8s\n",
      "138:\tlearn: -1.3652182\ttest: -1.3751978\tbest: -1.3751978 (138)\ttotal: 48.9s\tremaining: 21.4s\n",
      "139:\tlearn: -1.3651409\ttest: -1.3751747\tbest: -1.3751747 (139)\ttotal: 49.2s\tremaining: 21.1s\n",
      "140:\tlearn: -1.3647989\ttest: -1.3749262\tbest: -1.3749262 (140)\ttotal: 49.6s\tremaining: 20.7s\n",
      "141:\tlearn: -1.3646932\ttest: -1.3748977\tbest: -1.3748977 (141)\ttotal: 49.8s\tremaining: 20.4s\n",
      "142:\tlearn: -1.3643797\ttest: -1.3745957\tbest: -1.3745957 (142)\ttotal: 50.2s\tremaining: 20s\n",
      "143:\tlearn: -1.3642812\ttest: -1.3744652\tbest: -1.3744652 (143)\ttotal: 50.5s\tremaining: 19.6s\n",
      "144:\tlearn: -1.3640506\ttest: -1.3742355\tbest: -1.3742355 (144)\ttotal: 50.9s\tremaining: 19.3s\n",
      "145:\tlearn: -1.3638398\ttest: -1.3740793\tbest: -1.3740793 (145)\ttotal: 51.2s\tremaining: 18.9s\n",
      "146:\tlearn: -1.3636507\ttest: -1.3739554\tbest: -1.3739554 (146)\ttotal: 51.5s\tremaining: 18.6s\n",
      "147:\tlearn: -1.3634003\ttest: -1.3737219\tbest: -1.3737219 (147)\ttotal: 51.8s\tremaining: 18.2s\n",
      "148:\tlearn: -1.3632299\ttest: -1.3736168\tbest: -1.3736168 (148)\ttotal: 52.2s\tremaining: 17.9s\n",
      "149:\tlearn: -1.3629648\ttest: -1.3735093\tbest: -1.3735093 (149)\ttotal: 52.7s\tremaining: 17.6s\n",
      "150:\tlearn: -1.3628423\ttest: -1.3734066\tbest: -1.3734066 (150)\ttotal: 53s\tremaining: 17.2s\n",
      "151:\tlearn: -1.3627720\ttest: -1.3733701\tbest: -1.3733701 (151)\ttotal: 53.3s\tremaining: 16.8s\n",
      "152:\tlearn: -1.3627136\ttest: -1.3732911\tbest: -1.3732911 (152)\ttotal: 53.6s\tremaining: 16.5s\n",
      "153:\tlearn: -1.3622445\ttest: -1.3728223\tbest: -1.3728223 (153)\ttotal: 54s\tremaining: 16.1s\n",
      "154:\tlearn: -1.3619344\ttest: -1.3725465\tbest: -1.3725465 (154)\ttotal: 54.3s\tremaining: 15.8s\n",
      "155:\tlearn: -1.3616578\ttest: -1.3722570\tbest: -1.3722570 (155)\ttotal: 54.6s\tremaining: 15.4s\n",
      "156:\tlearn: -1.3613650\ttest: -1.3721514\tbest: -1.3721514 (156)\ttotal: 55s\tremaining: 15.1s\n",
      "157:\tlearn: -1.3612454\ttest: -1.3720221\tbest: -1.3720221 (157)\ttotal: 55.3s\tremaining: 14.7s\n",
      "158:\tlearn: -1.3611617\ttest: -1.3719390\tbest: -1.3719390 (158)\ttotal: 55.6s\tremaining: 14.3s\n",
      "159:\tlearn: -1.3610919\ttest: -1.3718926\tbest: -1.3718926 (159)\ttotal: 56s\tremaining: 14s\n",
      "160:\tlearn: -1.3609680\ttest: -1.3717694\tbest: -1.3717694 (160)\ttotal: 56.3s\tremaining: 13.6s\n",
      "161:\tlearn: -1.3608259\ttest: -1.3716905\tbest: -1.3716905 (161)\ttotal: 56.7s\tremaining: 13.3s\n",
      "162:\tlearn: -1.3606936\ttest: -1.3716105\tbest: -1.3716105 (162)\ttotal: 57s\tremaining: 12.9s\n",
      "163:\tlearn: -1.3605223\ttest: -1.3714594\tbest: -1.3714594 (163)\ttotal: 57.3s\tremaining: 12.6s\n",
      "164:\tlearn: -1.3602232\ttest: -1.3712335\tbest: -1.3712335 (164)\ttotal: 57.8s\tremaining: 12.3s\n",
      "165:\tlearn: -1.3599841\ttest: -1.3712480\tbest: -1.3712335 (164)\ttotal: 58.4s\tremaining: 12s\n",
      "166:\tlearn: -1.3597288\ttest: -1.3710891\tbest: -1.3710891 (166)\ttotal: 59.2s\tremaining: 11.7s\n",
      "167:\tlearn: -1.3594713\ttest: -1.3709150\tbest: -1.3709150 (167)\ttotal: 1m\tremaining: 11.5s\n",
      "168:\tlearn: -1.3593581\ttest: -1.3708162\tbest: -1.3708162 (168)\ttotal: 1m\tremaining: 11.1s\n",
      "169:\tlearn: -1.3592901\ttest: -1.3707595\tbest: -1.3707595 (169)\ttotal: 1m 1s\tremaining: 10.8s\n",
      "170:\tlearn: -1.3590935\ttest: -1.3706261\tbest: -1.3706261 (170)\ttotal: 1m 1s\tremaining: 10.5s\n",
      "171:\tlearn: -1.3590471\ttest: -1.3705973\tbest: -1.3705973 (171)\ttotal: 1m 2s\tremaining: 10.1s\n",
      "172:\tlearn: -1.3589566\ttest: -1.3705330\tbest: -1.3705330 (172)\ttotal: 1m 2s\tremaining: 9.77s\n",
      "173:\tlearn: -1.3587247\ttest: -1.3703950\tbest: -1.3703950 (173)\ttotal: 1m 3s\tremaining: 9.43s\n",
      "174:\tlearn: -1.3585647\ttest: -1.3702913\tbest: -1.3702913 (174)\ttotal: 1m 3s\tremaining: 9.07s\n",
      "175:\tlearn: -1.3584240\ttest: -1.3701004\tbest: -1.3701004 (175)\ttotal: 1m 3s\tremaining: 8.71s\n",
      "176:\tlearn: -1.3583707\ttest: -1.3700336\tbest: -1.3700336 (176)\ttotal: 1m 4s\tremaining: 8.35s\n"
     ]
    }
   ],
   "source": [
    "clf.fit(pool_train,\n",
    "            logging_level='Verbose',\n",
    "            eval_set=pool_valid\n",
    "    )"
   ]
  },
  {
   "cell_type": "code",
   "execution_count": null,
   "metadata": {},
   "outputs": [],
   "source": [
    "X_test = X_test.drop(['Name'], axis=1)"
   ]
  },
  {
   "cell_type": "code",
   "execution_count": null,
   "metadata": {},
   "outputs": [],
   "source": [
    "pred_test = clf.predict(X_test)"
   ]
  },
  {
   "cell_type": "code",
   "execution_count": null,
   "metadata": {},
   "outputs": [],
   "source": [
    "pred = list(map(lambda x: int(x[0]), pred_test))"
   ]
  },
  {
   "cell_type": "code",
   "execution_count": null,
   "metadata": {},
   "outputs": [],
   "source": [
    "submit_df = pd.DataFrame(data={'PetID': pet_id_test, 'AdoptionSpeed': pred})"
   ]
  },
  {
   "cell_type": "code",
   "execution_count": null,
   "metadata": {},
   "outputs": [],
   "source": [
    "submit_target_hist = submit_df.hist('AdoptionSpeed')"
   ]
  },
  {
   "cell_type": "code",
   "execution_count": null,
   "metadata": {},
   "outputs": [],
   "source": [
    "submit_df.head()"
   ]
  },
  {
   "cell_type": "code",
   "execution_count": 247,
   "metadata": {},
   "outputs": [],
   "source": [
    "submit_df.to_csv('submission.csv', index=False)"
   ]
  },
  {
   "cell_type": "code",
   "execution_count": null,
   "metadata": {},
   "outputs": [],
   "source": []
  }
 ],
 "metadata": {
  "kernelspec": {
   "display_name": "Python 3",
   "language": "python",
   "name": "python3"
  },
  "language_info": {
   "codemirror_mode": {
    "name": "ipython",
    "version": 3
   },
   "file_extension": ".py",
   "mimetype": "text/x-python",
   "name": "python",
   "nbconvert_exporter": "python",
   "pygments_lexer": "ipython3",
   "version": "3.6.6"
  }
 },
 "nbformat": 4,
 "nbformat_minor": 2
}
