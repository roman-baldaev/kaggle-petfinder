{
 "cells": [
  {
   "cell_type": "code",
   "execution_count": 248,
   "metadata": {},
   "outputs": [],
   "source": [
    "import numpy as np"
   ]
  },
  {
   "cell_type": "code",
   "execution_count": 249,
   "metadata": {},
   "outputs": [],
   "source": [
    "import pandas as pd"
   ]
  },
  {
   "cell_type": "code",
   "execution_count": 250,
   "metadata": {},
   "outputs": [],
   "source": [
    "import seaborn as sns"
   ]
  },
  {
   "cell_type": "code",
   "execution_count": 251,
   "metadata": {},
   "outputs": [],
   "source": [
    "import os"
   ]
  },
  {
   "cell_type": "code",
   "execution_count": 252,
   "metadata": {},
   "outputs": [],
   "source": [
    "input_path = \"../../input\""
   ]
  },
  {
   "cell_type": "code",
   "execution_count": 253,
   "metadata": {},
   "outputs": [],
   "source": [
    "train_df = pd.read_csv(os.path.join(input_path, 'train/train.csv'))"
   ]
  },
  {
   "cell_type": "code",
   "execution_count": 254,
   "metadata": {},
   "outputs": [],
   "source": [
    "test_df = pd.read_csv(os.path.join(input_path, 'test/test.csv'))"
   ]
  },
  {
   "cell_type": "markdown",
   "metadata": {},
   "source": [
    "### Looking on label balance in dataset"
   ]
  },
  {
   "cell_type": "code",
   "execution_count": 255,
   "metadata": {},
   "outputs": [
    {
     "data": {
      "image/png": "[encoded data removed]",
      "text/plain": [
       "<Figure size 432x288 with 1 Axes>"
      ]
     },
     "metadata": {
      "needs_background": "light"
     },
     "output_type": "display_data"
    }
   ],
   "source": [
    "adoption_speed_hist = train_df.hist('AdoptionSpeed')"
   ]
  },
  {
   "cell_type": "code",
   "execution_count": 256,
   "metadata": {},
   "outputs": [],
   "source": [
    "train_df['Name'] = train_df['Name'].fillna('No Name')\n",
    "test_df['Name'] = test_df['Name'].fillna('No Name')"
   ]
  },
  {
   "cell_type": "code",
   "execution_count": 257,
   "metadata": {},
   "outputs": [],
   "source": [
    "train_df['No_name'] = 0\n",
    "train_df.loc[(train_df['Name'] == 'No Name') | \n",
    "             (train_df['Name'] == 'No Name Yet'), 'No_name'] = 1\n",
    "test_df['No_name'] = 0\n",
    "test_df.loc[(test_df['Name'] == 'No Name')| \n",
    "             (test_df['Name'] == 'No Name Yet'), 'No_name'] = 1"
   ]
  },
  {
   "cell_type": "code",
   "execution_count": 258,
   "metadata": {},
   "outputs": [],
   "source": [
    "train_df['Bad_name'] = 0\n",
    "train_df.loc[train_df['Name'].apply(lambda x: len(str(x))) < 3, 'Bad_name'] = 1"
   ]
  },
  {
   "cell_type": "code",
   "execution_count": 259,
   "metadata": {},
   "outputs": [],
   "source": [
    "test_df['Bad_name'] = 0\n",
    "test_df.loc[test_df['Name'].apply(lambda x: len(str(x))) < 3, 'Bad_name'] = 1"
   ]
  },
  {
   "cell_type": "markdown",
   "metadata": {},
   "source": [
    "### Drop not-using features"
   ]
  },
  {
   "cell_type": "code",
   "execution_count": 260,
   "metadata": {},
   "outputs": [],
   "source": [
    "# drop text features and hash id`s\n",
    "drop_list = ['PetID', \n",
    "             'RescuerID', \n",
    "             'Description']"
   ]
  },
  {
   "cell_type": "code",
   "execution_count": 261,
   "metadata": {},
   "outputs": [],
   "source": [
    "pet_id_test = test_df['PetID']"
   ]
  },
  {
   "cell_type": "code",
   "execution_count": 262,
   "metadata": {},
   "outputs": [],
   "source": [
    "y = train_df['AdoptionSpeed']"
   ]
  },
  {
   "cell_type": "code",
   "execution_count": 263,
   "metadata": {},
   "outputs": [],
   "source": [
    "X = train_df.drop(drop_list, axis=1)"
   ]
  },
  {
   "cell_type": "code",
   "execution_count": 264,
   "metadata": {},
   "outputs": [],
   "source": [
    "# X = X.drop('AdoptionSpeed', axis=1)"
   ]
  },
  {
   "cell_type": "code",
   "execution_count": 265,
   "metadata": {},
   "outputs": [],
   "source": [
    "X_test = test_df.drop(drop_list, axis=1)"
   ]
  },
  {
   "cell_type": "code",
   "execution_count": null,
   "metadata": {},
   "outputs": [],
   "source": []
  },
  {
   "cell_type": "code",
   "execution_count": null,
   "metadata": {},
   "outputs": [],
   "source": []
  },
  {
   "cell_type": "code",
   "execution_count": null,
   "metadata": {},
   "outputs": [],
   "source": []
  },
  {
   "cell_type": "code",
   "execution_count": null,
   "metadata": {},
   "outputs": [],
   "source": []
  },
  {
   "cell_type": "markdown",
   "metadata": {},
   "source": [
    "### Select cat features"
   ]
  },
  {
   "cell_type": "code",
   "execution_count": 266,
   "metadata": {},
   "outputs": [],
   "source": [
    "def get_column_indeces_from_names(df,name_list):\n",
    "    indeces = []\n",
    "    for name in name_list:\n",
    "        indeces.append(df.columns.get_loc(name))\n",
    "    return indeces"
   ]
  },
  {
   "cell_type": "code",
   "execution_count": 267,
   "metadata": {},
   "outputs": [],
   "source": [
    "cat_feature_names = [\n",
    "    'Type',\n",
    "    'Breed1',\n",
    "    'Breed2',\n",
    "    'Gender',\n",
    "    'Color1',\n",
    "    'Color2',\n",
    "    'Color3',\n",
    "    'Vaccinated',\n",
    "    'Dewormed',\n",
    "    'Sterilized',\n",
    "    'Health',\n",
    "    'State',\n",
    "    'No_name',\n",
    "    'Bad_name'\n",
    "]"
   ]
  },
  {
   "cell_type": "code",
   "execution_count": null,
   "metadata": {},
   "outputs": [],
   "source": []
  },
  {
   "cell_type": "code",
   "execution_count": null,
   "metadata": {},
   "outputs": [],
   "source": []
  },
  {
   "cell_type": "markdown",
   "metadata": {},
   "source": [
    "### Create cd and pool"
   ]
  },
  {
   "cell_type": "code",
   "execution_count": 268,
   "metadata": {},
   "outputs": [],
   "source": [
    "from catboost.utils import create_cd"
   ]
  },
  {
   "cell_type": "code",
   "execution_count": 269,
   "metadata": {},
   "outputs": [],
   "source": [
    "label_index = X.columns.get_loc('AdoptionSpeed')"
   ]
  },
  {
   "cell_type": "code",
   "execution_count": 270,
   "metadata": {},
   "outputs": [],
   "source": [
    "def make_feature_names_dict(df, label_name):\n",
    "    columns = list(df.columns)\n",
    "    columns.remove(label_name)\n",
    "    column_indices = get_column_indeces_from_names(df, columns)\n",
    "        \n",
    "    return dict(zip(column_indices, columns))"
   ]
  },
  {
   "cell_type": "code",
   "execution_count": 271,
   "metadata": {},
   "outputs": [],
   "source": [
    "X = X.drop(['Name', 'AdoptionSpeed'], axis=1)"
   ]
  },
  {
   "cell_type": "code",
   "execution_count": 272,
   "metadata": {},
   "outputs": [
    {
     "data": {
      "text/html": [
       "<div>\n",
       "<style scoped>\n",
       "    .dataframe tbody tr th:only-of-type {\n",
       "        vertical-align: middle;\n",
       "    }\n",
       "\n",
       "    .dataframe tbody tr th {\n",
       "        vertical-align: top;\n",
       "    }\n",
       "\n",
       "    .dataframe thead th {\n",
       "        text-align: right;\n",
       "    }\n",
       "</style>\n",
       "<table border=\"1\" class=\"dataframe\">\n",
       "  <thead>\n",
       "    <tr style=\"text-align: right;\">\n",
       "      <th></th>\n",
       "      <th>Type</th>\n",
       "      <th>Age</th>\n",
       "      <th>Breed1</th>\n",
       "      <th>Breed2</th>\n",
       "      <th>Gender</th>\n",
       "      <th>Color1</th>\n",
       "      <th>Color2</th>\n",
       "      <th>Color3</th>\n",
       "      <th>MaturitySize</th>\n",
       "      <th>FurLength</th>\n",
       "      <th>...</th>\n",
       "      <th>Dewormed</th>\n",
       "      <th>Sterilized</th>\n",
       "      <th>Health</th>\n",
       "      <th>Quantity</th>\n",
       "      <th>Fee</th>\n",
       "      <th>State</th>\n",
       "      <th>VideoAmt</th>\n",
       "      <th>PhotoAmt</th>\n",
       "      <th>No_name</th>\n",
       "      <th>Bad_name</th>\n",
       "    </tr>\n",
       "  </thead>\n",
       "  <tbody>\n",
       "    <tr>\n",
       "      <th>0</th>\n",
       "      <td>2</td>\n",
       "      <td>3</td>\n",
       "      <td>299</td>\n",
       "      <td>0</td>\n",
       "      <td>1</td>\n",
       "      <td>1</td>\n",
       "      <td>7</td>\n",
       "      <td>0</td>\n",
       "      <td>1</td>\n",
       "      <td>1</td>\n",
       "      <td>...</td>\n",
       "      <td>2</td>\n",
       "      <td>2</td>\n",
       "      <td>1</td>\n",
       "      <td>1</td>\n",
       "      <td>100</td>\n",
       "      <td>41326</td>\n",
       "      <td>0</td>\n",
       "      <td>1.0</td>\n",
       "      <td>0</td>\n",
       "      <td>0</td>\n",
       "    </tr>\n",
       "    <tr>\n",
       "      <th>1</th>\n",
       "      <td>2</td>\n",
       "      <td>1</td>\n",
       "      <td>265</td>\n",
       "      <td>0</td>\n",
       "      <td>1</td>\n",
       "      <td>1</td>\n",
       "      <td>2</td>\n",
       "      <td>0</td>\n",
       "      <td>2</td>\n",
       "      <td>2</td>\n",
       "      <td>...</td>\n",
       "      <td>3</td>\n",
       "      <td>3</td>\n",
       "      <td>1</td>\n",
       "      <td>1</td>\n",
       "      <td>0</td>\n",
       "      <td>41401</td>\n",
       "      <td>0</td>\n",
       "      <td>2.0</td>\n",
       "      <td>1</td>\n",
       "      <td>0</td>\n",
       "    </tr>\n",
       "    <tr>\n",
       "      <th>2</th>\n",
       "      <td>1</td>\n",
       "      <td>1</td>\n",
       "      <td>307</td>\n",
       "      <td>0</td>\n",
       "      <td>1</td>\n",
       "      <td>2</td>\n",
       "      <td>7</td>\n",
       "      <td>0</td>\n",
       "      <td>2</td>\n",
       "      <td>2</td>\n",
       "      <td>...</td>\n",
       "      <td>1</td>\n",
       "      <td>2</td>\n",
       "      <td>1</td>\n",
       "      <td>1</td>\n",
       "      <td>0</td>\n",
       "      <td>41326</td>\n",
       "      <td>0</td>\n",
       "      <td>7.0</td>\n",
       "      <td>0</td>\n",
       "      <td>0</td>\n",
       "    </tr>\n",
       "    <tr>\n",
       "      <th>3</th>\n",
       "      <td>1</td>\n",
       "      <td>4</td>\n",
       "      <td>307</td>\n",
       "      <td>0</td>\n",
       "      <td>2</td>\n",
       "      <td>1</td>\n",
       "      <td>2</td>\n",
       "      <td>0</td>\n",
       "      <td>2</td>\n",
       "      <td>1</td>\n",
       "      <td>...</td>\n",
       "      <td>1</td>\n",
       "      <td>2</td>\n",
       "      <td>1</td>\n",
       "      <td>1</td>\n",
       "      <td>150</td>\n",
       "      <td>41401</td>\n",
       "      <td>0</td>\n",
       "      <td>8.0</td>\n",
       "      <td>0</td>\n",
       "      <td>0</td>\n",
       "    </tr>\n",
       "    <tr>\n",
       "      <th>4</th>\n",
       "      <td>1</td>\n",
       "      <td>1</td>\n",
       "      <td>307</td>\n",
       "      <td>0</td>\n",
       "      <td>1</td>\n",
       "      <td>1</td>\n",
       "      <td>0</td>\n",
       "      <td>0</td>\n",
       "      <td>2</td>\n",
       "      <td>1</td>\n",
       "      <td>...</td>\n",
       "      <td>2</td>\n",
       "      <td>2</td>\n",
       "      <td>1</td>\n",
       "      <td>1</td>\n",
       "      <td>0</td>\n",
       "      <td>41326</td>\n",
       "      <td>0</td>\n",
       "      <td>3.0</td>\n",
       "      <td>0</td>\n",
       "      <td>0</td>\n",
       "    </tr>\n",
       "  </tbody>\n",
       "</table>\n",
       "<p>5 rows × 21 columns</p>\n",
       "</div>"
      ],
      "text/plain": [
       "   Type  Age  Breed1  Breed2  Gender  Color1  Color2  Color3  MaturitySize  \\\n",
       "0     2    3     299       0       1       1       7       0             1   \n",
       "1     2    1     265       0       1       1       2       0             2   \n",
       "2     1    1     307       0       1       2       7       0             2   \n",
       "3     1    4     307       0       2       1       2       0             2   \n",
       "4     1    1     307       0       1       1       0       0             2   \n",
       "\n",
       "   FurLength    ...     Dewormed  Sterilized  Health  Quantity  Fee  State  \\\n",
       "0          1    ...            2           2       1         1  100  41326   \n",
       "1          2    ...            3           3       1         1    0  41401   \n",
       "2          2    ...            1           2       1         1    0  41326   \n",
       "3          1    ...            1           2       1         1  150  41401   \n",
       "4          1    ...            2           2       1         1    0  41326   \n",
       "\n",
       "   VideoAmt  PhotoAmt  No_name  Bad_name  \n",
       "0         0       1.0        0         0  \n",
       "1         0       2.0        1         0  \n",
       "2         0       7.0        0         0  \n",
       "3         0       8.0        0         0  \n",
       "4         0       3.0        0         0  \n",
       "\n",
       "[5 rows x 21 columns]"
      ]
     },
     "execution_count": 272,
     "metadata": {},
     "output_type": "execute_result"
    }
   ],
   "source": [
    "X.head()"
   ]
  },
  {
   "cell_type": "code",
   "execution_count": null,
   "metadata": {},
   "outputs": [],
   "source": []
  },
  {
   "cell_type": "code",
   "execution_count": 273,
   "metadata": {},
   "outputs": [],
   "source": [
    "cat_features = get_column_indeces_from_names(X, cat_feature_names)"
   ]
  },
  {
   "cell_type": "code",
   "execution_count": 274,
   "metadata": {},
   "outputs": [
    {
     "name": "stdout",
     "output_type": "stream",
     "text": [
      "[0, 2, 3, 4, 5, 6, 7, 10, 11, 12, 13, 16, 19, 20]\n"
     ]
    }
   ],
   "source": [
    "print(cat_features)"
   ]
  },
  {
   "cell_type": "code",
   "execution_count": 275,
   "metadata": {},
   "outputs": [],
   "source": [
    "from catboost import CatBoostClassifier, Pool"
   ]
  },
  {
   "cell_type": "code",
   "execution_count": 276,
   "metadata": {},
   "outputs": [],
   "source": [
    "from sklearn.model_selection import train_test_split"
   ]
  },
  {
   "cell_type": "code",
   "execution_count": 277,
   "metadata": {},
   "outputs": [
    {
     "name": "stderr",
     "output_type": "stream",
     "text": [
      "/home/roman-baldaev/anaconda3/lib/python3.6/site-packages/sklearn/model_selection/_split.py:2069: FutureWarning: From version 0.21, test_size will always complement train_size unless both are specified.\n",
      "  FutureWarning)\n"
     ]
    }
   ],
   "source": [
    "X_train, X_valid, y_train, y_valid = train_test_split(X,\n",
    "                                                        y, \n",
    "                                                        train_size=0.8,\n",
    "                                                        stratify=y\n",
    "    )"
   ]
  },
  {
   "cell_type": "code",
   "execution_count": 278,
   "metadata": {},
   "outputs": [],
   "source": [
    "pool_train = Pool(data=X_train,\n",
    "                 label=y_train,\n",
    "                 cat_features=cat_features)"
   ]
  },
  {
   "cell_type": "code",
   "execution_count": 279,
   "metadata": {},
   "outputs": [],
   "source": [
    "pool_valid = Pool(data=X_valid,\n",
    "                 label=y_valid,\n",
    "                 cat_features=cat_features)"
   ]
  },
  {
   "cell_type": "code",
   "execution_count": 280,
   "metadata": {},
   "outputs": [
    {
     "data": {
      "text/plain": [
       "((11994, 21), (2999, 21))"
      ]
     },
     "execution_count": 280,
     "metadata": {},
     "output_type": "execute_result"
    }
   ],
   "source": [
    "(pool_train.shape, pool_valid.shape)"
   ]
  },
  {
   "cell_type": "code",
   "execution_count": 281,
   "metadata": {},
   "outputs": [],
   "source": [
    "clf = CatBoostClassifier(iterations=200,\n",
    "                            loss_function = 'MultiClass',\n",
    "                            depth=4,\n",
    "                            leaf_estimation_iterations = 20,\n",
    "                            use_best_model=True,\n",
    "                            classes_count=5\n",
    "    )"
   ]
  },
  {
   "cell_type": "code",
   "execution_count": 282,
   "metadata": {},
   "outputs": [
    {
     "name": "stdout",
     "output_type": "stream",
     "text": [
      "0:\tlearn: -1.5966076\ttest: -1.5967380\tbest: -1.5967380 (0)\ttotal: 345ms\tremaining: 1m 8s\n",
      "1:\tlearn: -1.5849510\ttest: -1.5851581\tbest: -1.5851581 (1)\ttotal: 624ms\tremaining: 1m 1s\n",
      "2:\tlearn: -1.5734740\ttest: -1.5739338\tbest: -1.5739338 (2)\ttotal: 1.01s\tremaining: 1m 6s\n",
      "3:\tlearn: -1.5632081\ttest: -1.5636967\tbest: -1.5636967 (3)\ttotal: 1.39s\tremaining: 1m 7s\n",
      "4:\tlearn: -1.5532444\ttest: -1.5539497\tbest: -1.5539497 (4)\ttotal: 1.77s\tremaining: 1m 9s\n",
      "5:\tlearn: -1.5445098\ttest: -1.5452699\tbest: -1.5452699 (5)\ttotal: 2.15s\tremaining: 1m 9s\n",
      "6:\tlearn: -1.5354281\ttest: -1.5364638\tbest: -1.5364638 (6)\ttotal: 2.52s\tremaining: 1m 9s\n",
      "7:\tlearn: -1.5280884\ttest: -1.5292894\tbest: -1.5292894 (7)\ttotal: 2.89s\tremaining: 1m 9s\n",
      "8:\tlearn: -1.5210181\ttest: -1.5224233\tbest: -1.5224233 (8)\ttotal: 3.25s\tremaining: 1m 8s\n",
      "9:\tlearn: -1.5143252\ttest: -1.5159139\tbest: -1.5159139 (9)\ttotal: 3.64s\tremaining: 1m 9s\n",
      "10:\tlearn: -1.5083317\ttest: -1.5100414\tbest: -1.5100414 (10)\ttotal: 4s\tremaining: 1m 8s\n",
      "11:\tlearn: -1.5020400\ttest: -1.5039634\tbest: -1.5039634 (11)\ttotal: 4.34s\tremaining: 1m 8s\n",
      "12:\tlearn: -1.4950254\ttest: -1.4972728\tbest: -1.4972728 (12)\ttotal: 4.79s\tremaining: 1m 8s\n",
      "13:\tlearn: -1.4890761\ttest: -1.4914983\tbest: -1.4914983 (13)\ttotal: 5.15s\tremaining: 1m 8s\n",
      "14:\tlearn: -1.4828442\ttest: -1.4855639\tbest: -1.4855639 (14)\ttotal: 5.6s\tremaining: 1m 9s\n",
      "15:\tlearn: -1.4773912\ttest: -1.4802655\tbest: -1.4802655 (15)\ttotal: 6.01s\tremaining: 1m 9s\n",
      "16:\tlearn: -1.4732226\ttest: -1.4761184\tbest: -1.4761184 (16)\ttotal: 6.38s\tremaining: 1m 8s\n",
      "17:\tlearn: -1.4683569\ttest: -1.4714294\tbest: -1.4714294 (17)\ttotal: 6.72s\tremaining: 1m 7s\n",
      "18:\tlearn: -1.4636866\ttest: -1.4670288\tbest: -1.4670288 (18)\ttotal: 7.09s\tremaining: 1m 7s\n",
      "19:\tlearn: -1.4593643\ttest: -1.4630146\tbest: -1.4630146 (19)\ttotal: 7.48s\tremaining: 1m 7s\n",
      "20:\tlearn: -1.4567426\ttest: -1.4605105\tbest: -1.4605105 (20)\ttotal: 7.79s\tremaining: 1m 6s\n",
      "21:\tlearn: -1.4532903\ttest: -1.4572417\tbest: -1.4572417 (21)\ttotal: 8.16s\tremaining: 1m 6s\n",
      "22:\tlearn: -1.4498802\ttest: -1.4539568\tbest: -1.4539568 (22)\ttotal: 8.54s\tremaining: 1m 5s\n",
      "23:\tlearn: -1.4470811\ttest: -1.4513391\tbest: -1.4513391 (23)\ttotal: 8.88s\tremaining: 1m 5s\n",
      "24:\tlearn: -1.4431262\ttest: -1.4475246\tbest: -1.4475246 (24)\ttotal: 9.23s\tremaining: 1m 4s\n",
      "25:\tlearn: -1.4394608\ttest: -1.4442699\tbest: -1.4442699 (25)\ttotal: 9.63s\tremaining: 1m 4s\n",
      "26:\tlearn: -1.4366673\ttest: -1.4416709\tbest: -1.4416709 (26)\ttotal: 10.1s\tremaining: 1m 4s\n",
      "27:\tlearn: -1.4340683\ttest: -1.4392599\tbest: -1.4392599 (27)\ttotal: 10.7s\tremaining: 1m 5s\n",
      "28:\tlearn: -1.4313827\ttest: -1.4369477\tbest: -1.4369477 (28)\ttotal: 11.3s\tremaining: 1m 6s\n",
      "29:\tlearn: -1.4289287\ttest: -1.4346550\tbest: -1.4346550 (29)\ttotal: 11.8s\tremaining: 1m 6s\n",
      "30:\tlearn: -1.4271405\ttest: -1.4328185\tbest: -1.4328185 (30)\ttotal: 12.2s\tremaining: 1m 6s\n",
      "31:\tlearn: -1.4254530\ttest: -1.4311146\tbest: -1.4311146 (31)\ttotal: 12.7s\tremaining: 1m 6s\n",
      "32:\tlearn: -1.4238643\ttest: -1.4296152\tbest: -1.4296152 (32)\ttotal: 13.2s\tremaining: 1m 6s\n",
      "33:\tlearn: -1.4220086\ttest: -1.4279262\tbest: -1.4279262 (33)\ttotal: 13.7s\tremaining: 1m 6s\n",
      "34:\tlearn: -1.4200476\ttest: -1.4261387\tbest: -1.4261387 (34)\ttotal: 14.1s\tremaining: 1m 6s\n",
      "35:\tlearn: -1.4178204\ttest: -1.4240259\tbest: -1.4240259 (35)\ttotal: 14.4s\tremaining: 1m 5s\n",
      "36:\tlearn: -1.4169684\ttest: -1.4232341\tbest: -1.4232341 (36)\ttotal: 14.8s\tremaining: 1m 5s\n",
      "37:\tlearn: -1.4152865\ttest: -1.4217399\tbest: -1.4217399 (37)\ttotal: 15.1s\tremaining: 1m 4s\n",
      "38:\tlearn: -1.4141061\ttest: -1.4207072\tbest: -1.4207072 (38)\ttotal: 15.5s\tremaining: 1m 3s\n",
      "39:\tlearn: -1.4126739\ttest: -1.4192239\tbest: -1.4192239 (39)\ttotal: 15.9s\tremaining: 1m 3s\n",
      "40:\tlearn: -1.4107295\ttest: -1.4173089\tbest: -1.4173089 (40)\ttotal: 16.3s\tremaining: 1m 3s\n",
      "41:\tlearn: -1.4095841\ttest: -1.4163701\tbest: -1.4163701 (41)\ttotal: 16.6s\tremaining: 1m 2s\n",
      "42:\tlearn: -1.4082626\ttest: -1.4151545\tbest: -1.4151545 (42)\ttotal: 17s\tremaining: 1m 2s\n",
      "43:\tlearn: -1.4075891\ttest: -1.4145182\tbest: -1.4145182 (43)\ttotal: 17.3s\tremaining: 1m 1s\n",
      "44:\tlearn: -1.4064704\ttest: -1.4136280\tbest: -1.4136280 (44)\ttotal: 17.8s\tremaining: 1m 1s\n",
      "45:\tlearn: -1.4053420\ttest: -1.4127037\tbest: -1.4127037 (45)\ttotal: 18.3s\tremaining: 1m 1s\n",
      "46:\tlearn: -1.4037495\ttest: -1.4112955\tbest: -1.4112955 (46)\ttotal: 18.7s\tremaining: 1m\n",
      "47:\tlearn: -1.4028081\ttest: -1.4105191\tbest: -1.4105191 (47)\ttotal: 19.1s\tremaining: 1m\n",
      "48:\tlearn: -1.4017812\ttest: -1.4094904\tbest: -1.4094904 (48)\ttotal: 19.7s\tremaining: 1m\n",
      "49:\tlearn: -1.4009189\ttest: -1.4087658\tbest: -1.4087658 (49)\ttotal: 20s\tremaining: 1m\n",
      "50:\tlearn: -1.3998413\ttest: -1.4076725\tbest: -1.4076725 (50)\ttotal: 20.6s\tremaining: 1m\n",
      "51:\tlearn: -1.3988567\ttest: -1.4067333\tbest: -1.4067333 (51)\ttotal: 21.2s\tremaining: 1m\n",
      "52:\tlearn: -1.3978921\ttest: -1.4059013\tbest: -1.4059013 (52)\ttotal: 21.7s\tremaining: 1m\n",
      "53:\tlearn: -1.3970056\ttest: -1.4051993\tbest: -1.4051993 (53)\ttotal: 22.2s\tremaining: 1m\n",
      "54:\tlearn: -1.3963463\ttest: -1.4045725\tbest: -1.4045725 (54)\ttotal: 22.8s\tremaining: 1m\n",
      "55:\tlearn: -1.3958984\ttest: -1.4041266\tbest: -1.4041266 (55)\ttotal: 23.3s\tremaining: 60s\n",
      "56:\tlearn: -1.3952236\ttest: -1.4034117\tbest: -1.4034117 (56)\ttotal: 23.9s\tremaining: 59.9s\n",
      "57:\tlearn: -1.3943180\ttest: -1.4025123\tbest: -1.4025123 (57)\ttotal: 24.2s\tremaining: 59.3s\n",
      "58:\tlearn: -1.3933418\ttest: -1.4018321\tbest: -1.4018321 (58)\ttotal: 24.6s\tremaining: 58.8s\n",
      "59:\tlearn: -1.3923190\ttest: -1.4010155\tbest: -1.4010155 (59)\ttotal: 25s\tremaining: 58.3s\n",
      "60:\tlearn: -1.3918124\ttest: -1.4005112\tbest: -1.4005112 (60)\ttotal: 25.3s\tremaining: 57.7s\n",
      "61:\tlearn: -1.3911328\ttest: -1.3999404\tbest: -1.3999404 (61)\ttotal: 25.6s\tremaining: 57.1s\n",
      "62:\tlearn: -1.3901279\ttest: -1.3991666\tbest: -1.3991666 (62)\ttotal: 26.1s\tremaining: 56.7s\n",
      "63:\tlearn: -1.3894956\ttest: -1.3984920\tbest: -1.3984920 (63)\ttotal: 26.4s\tremaining: 56.1s\n",
      "64:\tlearn: -1.3887859\ttest: -1.3977857\tbest: -1.3977857 (64)\ttotal: 26.9s\tremaining: 55.9s\n",
      "65:\tlearn: -1.3882249\ttest: -1.3972946\tbest: -1.3972946 (65)\ttotal: 27.4s\tremaining: 55.6s\n",
      "66:\tlearn: -1.3878428\ttest: -1.3969230\tbest: -1.3969230 (66)\ttotal: 27.9s\tremaining: 55.4s\n",
      "67:\tlearn: -1.3874282\ttest: -1.3965323\tbest: -1.3965323 (67)\ttotal: 28.4s\tremaining: 55.2s\n",
      "68:\tlearn: -1.3865972\ttest: -1.3959247\tbest: -1.3959247 (68)\ttotal: 29s\tremaining: 55.1s\n",
      "69:\tlearn: -1.3860091\ttest: -1.3954645\tbest: -1.3954645 (69)\ttotal: 29.4s\tremaining: 54.6s\n",
      "70:\tlearn: -1.3852699\ttest: -1.3948098\tbest: -1.3948098 (70)\ttotal: 29.7s\tremaining: 54s\n",
      "71:\tlearn: -1.3847545\ttest: -1.3942380\tbest: -1.3942380 (71)\ttotal: 30.2s\tremaining: 53.8s\n",
      "72:\tlearn: -1.3842223\ttest: -1.3937863\tbest: -1.3937863 (72)\ttotal: 30.6s\tremaining: 53.2s\n",
      "73:\tlearn: -1.3838346\ttest: -1.3933990\tbest: -1.3933990 (73)\ttotal: 31s\tremaining: 52.7s\n",
      "74:\tlearn: -1.3834691\ttest: -1.3930968\tbest: -1.3930968 (74)\ttotal: 31.3s\tremaining: 52.2s\n",
      "75:\tlearn: -1.3830303\ttest: -1.3925912\tbest: -1.3925912 (75)\ttotal: 31.6s\tremaining: 51.6s\n",
      "76:\tlearn: -1.3826728\ttest: -1.3920703\tbest: -1.3920703 (76)\ttotal: 32s\tremaining: 51.1s\n",
      "77:\tlearn: -1.3822717\ttest: -1.3917445\tbest: -1.3917445 (77)\ttotal: 32.4s\tremaining: 50.7s\n",
      "78:\tlearn: -1.3816593\ttest: -1.3912713\tbest: -1.3912713 (78)\ttotal: 32.8s\tremaining: 50.2s\n",
      "79:\tlearn: -1.3813689\ttest: -1.3908323\tbest: -1.3908323 (79)\ttotal: 33.2s\tremaining: 49.9s\n",
      "80:\tlearn: -1.3807282\ttest: -1.3903458\tbest: -1.3903458 (80)\ttotal: 33.6s\tremaining: 49.4s\n",
      "81:\tlearn: -1.3803952\ttest: -1.3900107\tbest: -1.3900107 (81)\ttotal: 34s\tremaining: 48.9s\n",
      "82:\tlearn: -1.3801946\ttest: -1.3896962\tbest: -1.3896962 (82)\ttotal: 34.4s\tremaining: 48.5s\n",
      "83:\tlearn: -1.3796344\ttest: -1.3891589\tbest: -1.3891589 (83)\ttotal: 34.9s\tremaining: 48.2s\n",
      "84:\tlearn: -1.3793306\ttest: -1.3889107\tbest: -1.3889107 (84)\ttotal: 35.3s\tremaining: 47.7s\n",
      "85:\tlearn: -1.3788929\ttest: -1.3884553\tbest: -1.3884553 (85)\ttotal: 35.7s\tremaining: 47.3s\n",
      "86:\tlearn: -1.3783686\ttest: -1.3879145\tbest: -1.3879145 (86)\ttotal: 36s\tremaining: 46.8s\n",
      "87:\tlearn: -1.3779361\ttest: -1.3874991\tbest: -1.3874991 (87)\ttotal: 36.4s\tremaining: 46.3s\n",
      "88:\tlearn: -1.3776416\ttest: -1.3872895\tbest: -1.3872895 (88)\ttotal: 36.7s\tremaining: 45.8s\n",
      "89:\tlearn: -1.3773220\ttest: -1.3870072\tbest: -1.3870072 (89)\ttotal: 37.1s\tremaining: 45.3s\n",
      "90:\tlearn: -1.3766757\ttest: -1.3864319\tbest: -1.3864319 (90)\ttotal: 37.4s\tremaining: 44.9s\n"
     ]
    },
    {
     "name": "stdout",
     "output_type": "stream",
     "text": [
      "91:\tlearn: -1.3761263\ttest: -1.3858464\tbest: -1.3858464 (91)\ttotal: 37.8s\tremaining: 44.4s\n",
      "92:\tlearn: -1.3754405\ttest: -1.3853551\tbest: -1.3853551 (92)\ttotal: 38.2s\tremaining: 43.9s\n",
      "93:\tlearn: -1.3749927\ttest: -1.3849619\tbest: -1.3849619 (93)\ttotal: 38.5s\tremaining: 43.5s\n",
      "94:\tlearn: -1.3748202\ttest: -1.3848474\tbest: -1.3848474 (94)\ttotal: 38.9s\tremaining: 42.9s\n",
      "95:\tlearn: -1.3745198\ttest: -1.3845647\tbest: -1.3845647 (95)\ttotal: 39.2s\tremaining: 42.5s\n",
      "96:\tlearn: -1.3740092\ttest: -1.3840558\tbest: -1.3840558 (96)\ttotal: 39.6s\tremaining: 42s\n",
      "97:\tlearn: -1.3735024\ttest: -1.3835551\tbest: -1.3835551 (97)\ttotal: 39.9s\tremaining: 41.6s\n",
      "98:\tlearn: -1.3733204\ttest: -1.3833938\tbest: -1.3833938 (98)\ttotal: 40.3s\tremaining: 41.1s\n",
      "99:\tlearn: -1.3730451\ttest: -1.3831989\tbest: -1.3831989 (99)\ttotal: 40.6s\tremaining: 40.6s\n",
      "100:\tlearn: -1.3727045\ttest: -1.3829158\tbest: -1.3829158 (100)\ttotal: 40.9s\tremaining: 40.1s\n",
      "101:\tlearn: -1.3724587\ttest: -1.3825913\tbest: -1.3825913 (101)\ttotal: 41.3s\tremaining: 39.7s\n",
      "102:\tlearn: -1.3719312\ttest: -1.3821794\tbest: -1.3821794 (102)\ttotal: 41.6s\tremaining: 39.2s\n",
      "103:\tlearn: -1.3717100\ttest: -1.3820739\tbest: -1.3820739 (103)\ttotal: 42s\tremaining: 38.8s\n",
      "104:\tlearn: -1.3715614\ttest: -1.3819952\tbest: -1.3819952 (104)\ttotal: 42.4s\tremaining: 38.3s\n",
      "105:\tlearn: -1.3710223\ttest: -1.3815740\tbest: -1.3815740 (105)\ttotal: 42.7s\tremaining: 37.9s\n",
      "106:\tlearn: -1.3706506\ttest: -1.3812843\tbest: -1.3812843 (106)\ttotal: 43.1s\tremaining: 37.4s\n",
      "107:\tlearn: -1.3702517\ttest: -1.3810079\tbest: -1.3810079 (107)\ttotal: 43.5s\tremaining: 37.1s\n",
      "108:\tlearn: -1.3701445\ttest: -1.3808337\tbest: -1.3808337 (108)\ttotal: 43.8s\tremaining: 36.6s\n",
      "109:\tlearn: -1.3700119\ttest: -1.3806776\tbest: -1.3806776 (109)\ttotal: 44.2s\tremaining: 36.1s\n",
      "110:\tlearn: -1.3697166\ttest: -1.3804002\tbest: -1.3804002 (110)\ttotal: 44.5s\tremaining: 35.7s\n",
      "111:\tlearn: -1.3695072\ttest: -1.3801852\tbest: -1.3801852 (111)\ttotal: 44.9s\tremaining: 35.3s\n",
      "112:\tlearn: -1.3689922\ttest: -1.3798392\tbest: -1.3798392 (112)\ttotal: 45.2s\tremaining: 34.8s\n",
      "113:\tlearn: -1.3688706\ttest: -1.3796600\tbest: -1.3796600 (113)\ttotal: 45.5s\tremaining: 34.3s\n",
      "114:\tlearn: -1.3685607\ttest: -1.3794693\tbest: -1.3794693 (114)\ttotal: 45.9s\tremaining: 33.9s\n",
      "115:\tlearn: -1.3684439\ttest: -1.3793195\tbest: -1.3793195 (115)\ttotal: 46.2s\tremaining: 33.5s\n",
      "116:\tlearn: -1.3682622\ttest: -1.3791836\tbest: -1.3791836 (116)\ttotal: 46.6s\tremaining: 33.1s\n",
      "117:\tlearn: -1.3679984\ttest: -1.3789794\tbest: -1.3789794 (117)\ttotal: 47s\tremaining: 32.7s\n",
      "118:\tlearn: -1.3678662\ttest: -1.3788511\tbest: -1.3788511 (118)\ttotal: 47.3s\tremaining: 32.2s\n",
      "119:\tlearn: -1.3675444\ttest: -1.3785655\tbest: -1.3785655 (119)\ttotal: 47.6s\tremaining: 31.8s\n",
      "120:\tlearn: -1.3672635\ttest: -1.3782707\tbest: -1.3782707 (120)\ttotal: 48s\tremaining: 31.4s\n",
      "121:\tlearn: -1.3669577\ttest: -1.3779877\tbest: -1.3779877 (121)\ttotal: 48.4s\tremaining: 30.9s\n",
      "122:\tlearn: -1.3667939\ttest: -1.3777989\tbest: -1.3777989 (122)\ttotal: 48.8s\tremaining: 30.5s\n",
      "123:\tlearn: -1.3665834\ttest: -1.3776660\tbest: -1.3776660 (123)\ttotal: 49.2s\tremaining: 30.1s\n",
      "124:\tlearn: -1.3664884\ttest: -1.3775906\tbest: -1.3775906 (124)\ttotal: 49.5s\tremaining: 29.7s\n",
      "125:\tlearn: -1.3662597\ttest: -1.3774181\tbest: -1.3774181 (125)\ttotal: 49.9s\tremaining: 29.3s\n",
      "126:\tlearn: -1.3658922\ttest: -1.3771368\tbest: -1.3771368 (126)\ttotal: 50.3s\tremaining: 28.9s\n",
      "127:\tlearn: -1.3656477\ttest: -1.3769063\tbest: -1.3769063 (127)\ttotal: 50.7s\tremaining: 28.5s\n",
      "128:\tlearn: -1.3655314\ttest: -1.3767222\tbest: -1.3767222 (128)\ttotal: 51s\tremaining: 28.1s\n",
      "129:\tlearn: -1.3653099\ttest: -1.3765858\tbest: -1.3765858 (129)\ttotal: 51.4s\tremaining: 27.7s\n",
      "130:\tlearn: -1.3651854\ttest: -1.3765107\tbest: -1.3765107 (130)\ttotal: 51.7s\tremaining: 27.2s\n",
      "131:\tlearn: -1.3649857\ttest: -1.3763283\tbest: -1.3763283 (131)\ttotal: 52.2s\tremaining: 26.9s\n",
      "132:\tlearn: -1.3647740\ttest: -1.3760930\tbest: -1.3760930 (132)\ttotal: 52.7s\tremaining: 26.6s\n",
      "133:\tlearn: -1.3646440\ttest: -1.3759781\tbest: -1.3759781 (133)\ttotal: 53.5s\tremaining: 26.3s\n",
      "134:\tlearn: -1.3641914\ttest: -1.3756267\tbest: -1.3756267 (134)\ttotal: 54.3s\tremaining: 26.1s\n",
      "135:\tlearn: -1.3640328\ttest: -1.3754969\tbest: -1.3754969 (135)\ttotal: 54.9s\tremaining: 25.8s\n",
      "136:\tlearn: -1.3637876\ttest: -1.3752672\tbest: -1.3752672 (136)\ttotal: 55.6s\tremaining: 25.6s\n",
      "137:\tlearn: -1.3636663\ttest: -1.3751444\tbest: -1.3751444 (137)\ttotal: 56.2s\tremaining: 25.3s\n",
      "138:\tlearn: -1.3636052\ttest: -1.3750297\tbest: -1.3750297 (138)\ttotal: 56.7s\tremaining: 24.9s\n",
      "139:\tlearn: -1.3633468\ttest: -1.3748533\tbest: -1.3748533 (139)\ttotal: 57.3s\tremaining: 24.6s\n",
      "140:\tlearn: -1.3631702\ttest: -1.3747398\tbest: -1.3747398 (140)\ttotal: 57.8s\tremaining: 24.2s\n",
      "141:\tlearn: -1.3630638\ttest: -1.3746407\tbest: -1.3746407 (141)\ttotal: 58.2s\tremaining: 23.8s\n",
      "142:\tlearn: -1.3630066\ttest: -1.3745429\tbest: -1.3745429 (142)\ttotal: 58.6s\tremaining: 23.4s\n",
      "143:\tlearn: -1.3627908\ttest: -1.3743532\tbest: -1.3743532 (143)\ttotal: 59.2s\tremaining: 23s\n",
      "144:\tlearn: -1.3626373\ttest: -1.3743156\tbest: -1.3743156 (144)\ttotal: 59.8s\tremaining: 22.7s\n",
      "145:\tlearn: -1.3625340\ttest: -1.3742564\tbest: -1.3742564 (145)\ttotal: 1m\tremaining: 22.3s\n",
      "146:\tlearn: -1.3622144\ttest: -1.3740217\tbest: -1.3740217 (146)\ttotal: 1m\tremaining: 22s\n",
      "147:\tlearn: -1.3621265\ttest: -1.3739415\tbest: -1.3739415 (147)\ttotal: 1m 1s\tremaining: 21.5s\n",
      "148:\tlearn: -1.3618862\ttest: -1.3737135\tbest: -1.3737135 (148)\ttotal: 1m 1s\tremaining: 21.2s\n",
      "149:\tlearn: -1.3615171\ttest: -1.3734087\tbest: -1.3734087 (149)\ttotal: 1m 2s\tremaining: 20.8s\n",
      "150:\tlearn: -1.3611843\ttest: -1.3730393\tbest: -1.3730393 (150)\ttotal: 1m 2s\tremaining: 20.3s\n",
      "151:\tlearn: -1.3607624\ttest: -1.3727140\tbest: -1.3727140 (151)\ttotal: 1m 2s\tremaining: 19.9s\n",
      "152:\tlearn: -1.3606164\ttest: -1.3725706\tbest: -1.3725706 (152)\ttotal: 1m 3s\tremaining: 19.5s\n",
      "153:\tlearn: -1.3605073\ttest: -1.3724410\tbest: -1.3724410 (153)\ttotal: 1m 3s\tremaining: 19s\n",
      "154:\tlearn: -1.3602217\ttest: -1.3722634\tbest: -1.3722634 (154)\ttotal: 1m 4s\tremaining: 18.6s\n",
      "155:\tlearn: -1.3600738\ttest: -1.3721494\tbest: -1.3721494 (155)\ttotal: 1m 4s\tremaining: 18.2s\n",
      "156:\tlearn: -1.3599103\ttest: -1.3720092\tbest: -1.3720092 (156)\ttotal: 1m 5s\tremaining: 17.8s\n",
      "157:\tlearn: -1.3598422\ttest: -1.3719086\tbest: -1.3719086 (157)\ttotal: 1m 5s\tremaining: 17.4s\n",
      "158:\tlearn: -1.3594944\ttest: -1.3715576\tbest: -1.3715576 (158)\ttotal: 1m 6s\tremaining: 17s\n",
      "159:\tlearn: -1.3593191\ttest: -1.3714741\tbest: -1.3714741 (159)\ttotal: 1m 6s\tremaining: 16.6s\n",
      "160:\tlearn: -1.3591290\ttest: -1.3712953\tbest: -1.3712953 (160)\ttotal: 1m 6s\tremaining: 16.2s\n",
      "161:\tlearn: -1.3590255\ttest: -1.3712158\tbest: -1.3712158 (161)\ttotal: 1m 7s\tremaining: 15.8s\n",
      "162:\tlearn: -1.3587740\ttest: -1.3710197\tbest: -1.3710197 (162)\ttotal: 1m 7s\tremaining: 15.3s\n",
      "163:\tlearn: -1.3586923\ttest: -1.3709768\tbest: -1.3709768 (163)\ttotal: 1m 7s\tremaining: 14.9s\n",
      "164:\tlearn: -1.3584998\ttest: -1.3708464\tbest: -1.3708464 (164)\ttotal: 1m 8s\tremaining: 14.5s\n",
      "165:\tlearn: -1.3582774\ttest: -1.3706834\tbest: -1.3706834 (165)\ttotal: 1m 8s\tremaining: 14.1s\n",
      "166:\tlearn: -1.3581499\ttest: -1.3706041\tbest: -1.3706041 (166)\ttotal: 1m 9s\tremaining: 13.7s\n",
      "167:\tlearn: -1.3578945\ttest: -1.3704111\tbest: -1.3704111 (167)\ttotal: 1m 9s\tremaining: 13.3s\n",
      "168:\tlearn: -1.3578028\ttest: -1.3703399\tbest: -1.3703399 (168)\ttotal: 1m 10s\tremaining: 12.9s\n",
      "169:\tlearn: -1.3576735\ttest: -1.3702435\tbest: -1.3702435 (169)\ttotal: 1m 10s\tremaining: 12.5s\n",
      "170:\tlearn: -1.3575104\ttest: -1.3700857\tbest: -1.3700857 (170)\ttotal: 1m 11s\tremaining: 12.1s\n",
      "171:\tlearn: -1.3572027\ttest: -1.3698563\tbest: -1.3698563 (171)\ttotal: 1m 11s\tremaining: 11.6s\n",
      "172:\tlearn: -1.3569669\ttest: -1.3696864\tbest: -1.3696864 (172)\ttotal: 1m 11s\tremaining: 11.2s\n",
      "173:\tlearn: -1.3566876\ttest: -1.3695339\tbest: -1.3695339 (173)\ttotal: 1m 12s\tremaining: 10.8s\n",
      "174:\tlearn: -1.3566175\ttest: -1.3694131\tbest: -1.3694131 (174)\ttotal: 1m 12s\tremaining: 10.4s\n",
      "175:\tlearn: -1.3565687\ttest: -1.3693950\tbest: -1.3693950 (175)\ttotal: 1m 12s\tremaining: 9.94s\n",
      "176:\tlearn: -1.3563671\ttest: -1.3692437\tbest: -1.3692437 (176)\ttotal: 1m 13s\tremaining: 9.52s\n",
      "177:\tlearn: -1.3560416\ttest: -1.3690430\tbest: -1.3690430 (177)\ttotal: 1m 13s\tremaining: 9.1s\n",
      "178:\tlearn: -1.3558206\ttest: -1.3688474\tbest: -1.3688474 (178)\ttotal: 1m 13s\tremaining: 8.68s\n",
      "179:\tlearn: -1.3556644\ttest: -1.3687328\tbest: -1.3687328 (179)\ttotal: 1m 14s\tremaining: 8.26s\n"
     ]
    },
    {
     "name": "stdout",
     "output_type": "stream",
     "text": [
      "180:\tlearn: -1.3556199\ttest: -1.3686434\tbest: -1.3686434 (180)\ttotal: 1m 14s\tremaining: 7.83s\n",
      "181:\tlearn: -1.3555967\ttest: -1.3686370\tbest: -1.3686370 (181)\ttotal: 1m 14s\tremaining: 7.41s\n",
      "182:\tlearn: -1.3553495\ttest: -1.3683790\tbest: -1.3683790 (182)\ttotal: 1m 15s\tremaining: 7s\n",
      "183:\tlearn: -1.3552264\ttest: -1.3683606\tbest: -1.3683606 (183)\ttotal: 1m 15s\tremaining: 6.58s\n",
      "184:\tlearn: -1.3551746\ttest: -1.3682897\tbest: -1.3682897 (184)\ttotal: 1m 16s\tremaining: 6.16s\n",
      "185:\tlearn: -1.3550128\ttest: -1.3681621\tbest: -1.3681621 (185)\ttotal: 1m 16s\tremaining: 5.75s\n",
      "186:\tlearn: -1.3548090\ttest: -1.3680269\tbest: -1.3680269 (186)\ttotal: 1m 16s\tremaining: 5.33s\n",
      "187:\tlearn: -1.3546516\ttest: -1.3678653\tbest: -1.3678653 (187)\ttotal: 1m 17s\tremaining: 4.92s\n",
      "188:\tlearn: -1.3544799\ttest: -1.3676389\tbest: -1.3676389 (188)\ttotal: 1m 17s\tremaining: 4.5s\n",
      "189:\tlearn: -1.3543571\ttest: -1.3675873\tbest: -1.3675873 (189)\ttotal: 1m 17s\tremaining: 4.09s\n",
      "190:\tlearn: -1.3543083\ttest: -1.3675504\tbest: -1.3675504 (190)\ttotal: 1m 17s\tremaining: 3.67s\n",
      "191:\tlearn: -1.3541941\ttest: -1.3674573\tbest: -1.3674573 (191)\ttotal: 1m 18s\tremaining: 3.26s\n",
      "192:\tlearn: -1.3540344\ttest: -1.3672450\tbest: -1.3672450 (192)\ttotal: 1m 18s\tremaining: 2.85s\n",
      "193:\tlearn: -1.3540014\ttest: -1.3671753\tbest: -1.3671753 (193)\ttotal: 1m 18s\tremaining: 2.44s\n",
      "194:\tlearn: -1.3538788\ttest: -1.3670552\tbest: -1.3670552 (194)\ttotal: 1m 19s\tremaining: 2.03s\n",
      "195:\tlearn: -1.3538392\ttest: -1.3670129\tbest: -1.3670129 (195)\ttotal: 1m 19s\tremaining: 1.62s\n",
      "196:\tlearn: -1.3536653\ttest: -1.3668895\tbest: -1.3668895 (196)\ttotal: 1m 19s\tremaining: 1.22s\n",
      "197:\tlearn: -1.3536452\ttest: -1.3668503\tbest: -1.3668503 (197)\ttotal: 1m 20s\tremaining: 811ms\n",
      "198:\tlearn: -1.3535084\ttest: -1.3667525\tbest: -1.3667525 (198)\ttotal: 1m 20s\tremaining: 405ms\n",
      "199:\tlearn: -1.3533965\ttest: -1.3666539\tbest: -1.3666539 (199)\ttotal: 1m 20s\tremaining: 0us\n",
      "\n",
      "bestTest = -1.36665386\n",
      "bestIteration = 199\n",
      "\n"
     ]
    },
    {
     "data": {
      "text/plain": [
       "<catboost.core.CatBoostClassifier at 0x7f2a127fb550>"
      ]
     },
     "execution_count": 282,
     "metadata": {},
     "output_type": "execute_result"
    }
   ],
   "source": [
    "clf.fit(pool_train,\n",
    "            logging_level='Verbose',\n",
    "            eval_set=pool_valid\n",
    "    )"
   ]
  },
  {
   "cell_type": "code",
   "execution_count": 283,
   "metadata": {},
   "outputs": [],
   "source": [
    "X_test = X_test.drop(['Name'], axis=1)"
   ]
  },
  {
   "cell_type": "code",
   "execution_count": 284,
   "metadata": {},
   "outputs": [],
   "source": [
    "pred_test = clf.predict(X_test)"
   ]
  },
  {
   "cell_type": "code",
   "execution_count": 285,
   "metadata": {},
   "outputs": [],
   "source": [
    "pred = list(map(lambda x: int(x[0]), pred_test))"
   ]
  },
  {
   "cell_type": "code",
   "execution_count": 286,
   "metadata": {},
   "outputs": [],
   "source": [
    "submit_df = pd.DataFrame(data={'PetID': pet_id_test, 'AdoptionSpeed': pred})"
   ]
  },
  {
   "cell_type": "code",
   "execution_count": 287,
   "metadata": {},
   "outputs": [
    {
     "data": {
      "image/png": "[encoded data removed]",
      "text/plain": [
       "<Figure size 432x288 with 1 Axes>"
      ]
     },
     "metadata": {
      "needs_background": "light"
     },
     "output_type": "display_data"
    }
   ],
   "source": [
    "submit_target_hist = submit_df.hist('AdoptionSpeed')"
   ]
  },
  {
   "cell_type": "code",
   "execution_count": 246,
   "metadata": {},
   "outputs": [
    {
     "data": {
      "text/html": [
       "<div>\n",
       "<style scoped>\n",
       "    .dataframe tbody tr th:only-of-type {\n",
       "        vertical-align: middle;\n",
       "    }\n",
       "\n",
       "    .dataframe tbody tr th {\n",
       "        vertical-align: top;\n",
       "    }\n",
       "\n",
       "    .dataframe thead th {\n",
       "        text-align: right;\n",
       "    }\n",
       "</style>\n",
       "<table border=\"1\" class=\"dataframe\">\n",
       "  <thead>\n",
       "    <tr style=\"text-align: right;\">\n",
       "      <th></th>\n",
       "      <th>PetID</th>\n",
       "      <th>AdoptionSpeed</th>\n",
       "    </tr>\n",
       "  </thead>\n",
       "  <tbody>\n",
       "    <tr>\n",
       "      <th>0</th>\n",
       "      <td>378fcc4fc</td>\n",
       "      <td>2</td>\n",
       "    </tr>\n",
       "    <tr>\n",
       "      <th>1</th>\n",
       "      <td>73c10e136</td>\n",
       "      <td>4</td>\n",
       "    </tr>\n",
       "    <tr>\n",
       "      <th>2</th>\n",
       "      <td>72000c4c5</td>\n",
       "      <td>4</td>\n",
       "    </tr>\n",
       "    <tr>\n",
       "      <th>3</th>\n",
       "      <td>e147a4b9f</td>\n",
       "      <td>4</td>\n",
       "    </tr>\n",
       "    <tr>\n",
       "      <th>4</th>\n",
       "      <td>43fbba852</td>\n",
       "      <td>4</td>\n",
       "    </tr>\n",
       "  </tbody>\n",
       "</table>\n",
       "</div>"
      ],
      "text/plain": [
       "       PetID  AdoptionSpeed\n",
       "0  378fcc4fc              2\n",
       "1  73c10e136              4\n",
       "2  72000c4c5              4\n",
       "3  e147a4b9f              4\n",
       "4  43fbba852              4"
      ]
     },
     "execution_count": 246,
     "metadata": {},
     "output_type": "execute_result"
    }
   ],
   "source": [
    "submit_df.head()"
   ]
  },
  {
   "cell_type": "code",
   "execution_count": 247,
   "metadata": {},
   "outputs": [],
   "source": [
    "submit_df.to_csv('submission.csv', index=False)"
   ]
  },
  {
   "cell_type": "code",
   "execution_count": null,
   "metadata": {},
   "outputs": [],
   "source": []
  }
 ],
 "metadata": {
  "kernelspec": {
   "display_name": "Python 3",
   "language": "python",
   "name": "python3"
  },
  "language_info": {
   "codemirror_mode": {
    "name": "ipython",
    "version": 3
   },
   "file_extension": ".py",
   "mimetype": "text/x-python",
   "name": "python",
   "nbconvert_exporter": "python",
   "pygments_lexer": "ipython3",
   "version": "3.6.6"
  }
 },
 "nbformat": 4,
 "nbformat_minor": 2
}
